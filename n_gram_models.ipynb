{
  "cells": [
    {
      "cell_type": "markdown",
      "metadata": {
        "id": "view-in-github",
        "colab_type": "text"
      },
      "source": [
        "<a href=\"https://colab.research.google.com/github/amaneth/NLP_Week-1/blob/main/n_gram_models.ipynb\" target=\"_parent\"><img src=\"https://colab.research.google.com/assets/colab-badge.svg\" alt=\"Open In Colab\"/></a>"
      ]
    },
    {
      "cell_type": "markdown",
      "metadata": {
        "id": "656W_qXkBaQl"
      },
      "source": [
        "\n",
        "<h1 style=\"font-family:verdana;font-size:300%;text-align:center;background-color:#f2f2f2;color:#0d0d0d\">AMMI NLP - Review sessions</h1>\n",
        "\n",
        "<h1 style=\"font-family:verdana;font-size:180%;text-align:Center;color:#993333\"> Lab 3: n-gram models </h1>"
      ]
    },
    {
      "cell_type": "markdown",
      "metadata": {
        "id": "Xt4dWzWhBaQn"
      },
      "source": [
        "**Big thanks to Amr Khalifa who improved this lab and made it to a Jupyter Notebook!**"
      ]
    },
    {
      "cell_type": "code",
      "execution_count": 7,
      "metadata": {
        "id": "Qcz7kZlKBaQo"
      },
      "outputs": [],
      "source": [
        "import io, sys, math, re\n",
        "from collections import defaultdict\n",
        "import numpy as np"
      ]
    },
    {
      "cell_type": "code",
      "source": [
        "from google.colab import drive\n",
        "drive.mount('/content/drive')"
      ],
      "metadata": {
        "colab": {
          "base_uri": "https://localhost:8080/"
        },
        "id": "rWR7RLLoPUdg",
        "outputId": "8be58793-e064-490a-e704-3855c6f0dadc"
      },
      "execution_count": 8,
      "outputs": [
        {
          "output_type": "stream",
          "name": "stdout",
          "text": [
            "Mounted at /content/drive\n"
          ]
        }
      ]
    },
    {
      "cell_type": "code",
      "execution_count": 9,
      "metadata": {
        "id": "fgATADZnBaQo"
      },
      "outputs": [],
      "source": [
        "# data_loader\n",
        "def load_data(filename):\n",
        "    '''\n",
        "    parameters:\n",
        "    filename (string): datafile\n",
        "    \n",
        "    Returns:\n",
        "    data (list of lists): each list is a sentence of the text \n",
        "    vocab (dictionary): {word: no of times it appears in the text}\n",
        "    '''\n",
        "    fin = io.open(filename, 'r', encoding='utf-8')\n",
        "    data = []\n",
        "    vocab = defaultdict(lambda:0)\n",
        "    for line in fin:\n",
        "        sentence = line.split()\n",
        "        data.append(sentence)\n",
        "        for word in sentence:\n",
        "            vocab[word] += 1\n",
        "    return data, vocab"
      ]
    },
    {
      "cell_type": "code",
      "source": [
        "cd /content/drive/MyDrive/NLP_Week_1_Labs_2022/session3"
      ],
      "metadata": {
        "colab": {
          "base_uri": "https://localhost:8080/"
        },
        "id": "L32obij2Qpww",
        "outputId": "cab444f4-d0aa-48ef-c683-da1a642fc6c2"
      },
      "execution_count": 10,
      "outputs": [
        {
          "output_type": "stream",
          "name": "stdout",
          "text": [
            "/content/drive/.shortcut-targets-by-id/1hemX0olabA89fdb9njWGoX6q2g_RJU4Y/NLP_Week_1_Labs_2022/session3\n"
          ]
        }
      ]
    },
    {
      "cell_type": "code",
      "execution_count": 11,
      "metadata": {
        "id": "vNHJncfkBaQp",
        "colab": {
          "base_uri": "https://localhost:8080/"
        },
        "outputId": "975486f8-c4a7-41df-cdb1-727b72e9c6f1"
      },
      "outputs": [
        {
          "output_type": "stream",
          "name": "stdout",
          "text": [
            "load training set..\n",
            "\n",
            "\n",
            "['<s>', 'my', 'fathers', \"don't\", 'speak', 'dutch.', '</s>']\n",
            "\n",
            "\n",
            "how : 107\n",
            "load validation set\n"
          ]
        }
      ],
      "source": [
        "\n",
        "print(\"load training set..\")\n",
        "print(\"\\n\")\n",
        "train_data, vocab = load_data(\"train1.txt\")\n",
        "print(train_data[0])\n",
        "print(\"\\n\")\n",
        "print(\"how :\",vocab['how'])\n",
        "print(\"load validation set\")\n",
        "valid_data, _ = load_data(\"valid1.txt\")\n"
      ]
    },
    {
      "cell_type": "code",
      "execution_count": 12,
      "metadata": {
        "id": "C2vdxBvOBaQp"
      },
      "outputs": [],
      "source": [
        "def remove_rare_words(data, vocab, mincount = 1):\n",
        "    '''\n",
        "    Parameters:\n",
        "    data (list of lists): each list is a sentence of the text \n",
        "    vocab (dictionary): {word: no of times it appears in the text}\n",
        "    mincount(int): the minimum count \n",
        "    \n",
        "    Returns: \n",
        "    data_with_unk(list of lists): data after replacing rare words with <unk> token\n",
        "    '''\n",
        "    # replace words in data that are not in the vocab \n",
        "    # or have a count that is below mincount\n",
        "    data_with_unk = []\n",
        "\n",
        "    ## FILL CODE\n",
        "    data_with_unk= [[word if vocab[word]>mincount else '<unk>' for word in sentence ] for sentence in data ]\n",
        "\n",
        "    \n",
        "    return data_with_unk"
      ]
    },
    {
      "cell_type": "code",
      "execution_count": 13,
      "metadata": {
        "id": "v5itQ7a9BaQq",
        "colab": {
          "base_uri": "https://localhost:8080/"
        },
        "outputId": "ec9da823-cd6a-4ef7-d3a0-788b06890033"
      },
      "outputs": [
        {
          "output_type": "stream",
          "name": "stdout",
          "text": [
            "remove rare words\n",
            "['<s>', 'my', '<unk>', \"don't\", 'speak', '<unk>', '</s>']\n"
          ]
        }
      ],
      "source": [
        "print(\"remove rare words\")\n",
        "train_data = remove_rare_words(train_data, vocab, mincount = 1)\n",
        "valid_data = remove_rare_words(valid_data, vocab, mincount = 1)\n",
        "#train_data\n",
        "print(train_data[0])\n"
      ]
    },
    {
      "cell_type": "code",
      "execution_count": 14,
      "metadata": {
        "id": "ktuMdq-sBaQq"
      },
      "outputs": [],
      "source": [
        "def build_ngram(data, n):\n",
        "    '''\n",
        "    Parameters:\n",
        "    data (list of lists): each list is a sentence of the text \n",
        "    n (int): size of the n-gram\n",
        "    \n",
        "    Returns:\n",
        "    prob (dictionary of dictionary)\n",
        "    {\n",
        "        context: {word:probability of this word given context}\n",
        "    }\n",
        "    '''\n",
        "    total_number_words = 0\n",
        "    counts = defaultdict(lambda: defaultdict(lambda: 0.0))\n",
        "\n",
        "    for sentence in data:\n",
        "        sentence = tuple(sentence)\n",
        "        ## FILL CODE\n",
        "        # dict can be indexed by tuples\n",
        "        # store in the same dict all the ngrams\n",
        "        # by using the context as a key and the word as a value\n",
        "        for gram in range(n):\n",
        "          for i,word in enumerate(sentence[gram:]):\n",
        "            counts[sentence[i:i+(gram)]][word]+=1\n",
        "                           \n",
        "\n",
        "    prob = defaultdict(lambda: defaultdict(lambda: 0.0))\n",
        "    # Build the probabilities from the counts\n",
        "    # Be careful with how you normalize!\n",
        "\n",
        "    for context in counts.keys():\n",
        "      for word,count in counts[context].items():\n",
        "        prob[context][word]= counts[context][word]/sum(counts[context].values())\n",
        "    ## FILL CODE\n",
        "\n",
        "\n",
        "    return prob"
      ]
    },
    {
      "cell_type": "code",
      "execution_count": 111,
      "metadata": {
        "id": "QDamv0VwBaQr",
        "colab": {
          "base_uri": "https://localhost:8080/"
        },
        "outputId": "11d0a416-7ac0-4828-d79f-69fe574bcfd5"
      },
      "outputs": [
        {
          "output_type": "stream",
          "name": "stdout",
          "text": [
            "build ngram model with n =  3\n"
          ]
        }
      ],
      "source": [
        "# RUN TO BUILD NGRAM MODEL\n",
        "\n",
        "n = 3\n",
        "print(\"build ngram model with n = \", n)\n",
        "model = build_ngram(train_data, n)"
      ]
    },
    {
      "cell_type": "markdown",
      "metadata": {
        "id": "SWetC3SLBaQr"
      },
      "source": [
        "Here, implement a recursive function over shorter and shorter context to compute a \"stupid backoff model\". An interpolation model can also be implemented this way."
      ]
    },
    {
      "cell_type": "code",
      "execution_count": 123,
      "metadata": {
        "id": "1AeyPzazBaQs"
      },
      "outputs": [],
      "source": [
        "def get_prob(model, context, w):\n",
        "    '''\n",
        "    Parameters: \n",
        "    model (dictionary of dictionary)\n",
        "    {\n",
        "        context: {word:probability of this word given context}\n",
        "    } \n",
        "    context (list of strings): a sentence\n",
        "    w(string): the word we need to find it's probability given the context\n",
        "    \n",
        "    Retunrs:\n",
        "    prob(float): probability of this word given the context \n",
        "    '''\n",
        "\n",
        "    # code a recursive function over \n",
        "    # smaller and smaller context\n",
        "    # to compute the backoff model\n",
        "    prob=0.0\n",
        "    p=0.0\n",
        "    ## FILL CODE\n",
        "    def stupid(context,w):\n",
        "      prefix = tuple(context)\n",
        "      # print(prefix)\n",
        "      # print(context)\n",
        "      if model[prefix][w]>0:\n",
        "        p=model[prefix][w]\n",
        "        # print(p)\n",
        "      else:\n",
        "        context=context[1:]\n",
        "        # print(context)\n",
        "        p=0.4 * stupid(context,w)\n",
        "      return p\n",
        "    prob=stupid(context,w)\n",
        "\n",
        "    return prob\n"
      ]
    },
    {
      "cell_type": "code",
      "execution_count": 124,
      "metadata": {
        "id": "qebGh5rDBaQs"
      },
      "outputs": [],
      "source": [
        "def perplexity(model, data, n):\n",
        "    '''\n",
        "    Parameters: \n",
        "    model (dictionary of dictionary)\n",
        "    {\n",
        "        context: {word:probability of this word given context}\n",
        "    } \n",
        "    data (list of lists): each list is a sentence of the text\n",
        "    n(int): size of the n-gram\n",
        "    \n",
        "    Retunrs:\n",
        "    perp(float): the perplexity of the model \n",
        "    '''\n",
        "    probs=1\n",
        "    N=0\n",
        "    ## FILL CODE\n",
        "    for doc in data:\n",
        "      probs=probs*get_prob(model, doc[:-1], doc[-1])\n",
        "      N+=len(doc)\n",
        "      # print('perp',probs)\n",
        "    preplexity=pow(probs,-(1/N))\n",
        "\n",
        "    return preplexity"
      ]
    },
    {
      "cell_type": "code",
      "execution_count": 125,
      "metadata": {
        "id": "SZtTOkcnBaQs",
        "colab": {
          "base_uri": "https://localhost:8080/"
        },
        "outputId": "39935ead-8d06-4c76-a988-1c8f265c048d"
      },
      "outputs": [
        {
          "output_type": "stream",
          "name": "stdout",
          "text": [
            "The perplexity is 2.1151567017235378\n"
          ]
        }
      ],
      "source": [
        "# COMPUTE PERPLEXITY ON VALIDATION SET\n",
        "\n",
        "print(\"The perplexity is\", perplexity(model, valid_data, n=n))"
      ]
    },
    {
      "cell_type": "code",
      "execution_count": 234,
      "metadata": {
        "id": "QHThqCGYBaQs"
      },
      "outputs": [],
      "source": [
        "def get_proba_distrib(mod, cont):\n",
        "    ## need to get the the words after the context and their probability of appearance\n",
        "    ## after this context \n",
        "    '''\n",
        "    Parameters: \n",
        "    model (dictionary of dictionary)\n",
        "    {\n",
        "        context: {word:probability of this word given context}\n",
        "    }\n",
        "    context (list of strings): the sentence we need to find the words after it and \n",
        "    thier probabilites\n",
        "    \n",
        "    Retunrs:\n",
        "    words_and_probs(dic): {word: probability of word given context}\n",
        "    \n",
        "    '''\n",
        "    # code a recursive function over context\n",
        "    # to find the longest available ngram\n",
        "    \n",
        "    def prob(model, context):\n",
        "      probs=None\n",
        "      print('conntext', tuple(context))\n",
        "      if tuple(context) in model.keys():\n",
        "          probs=model[tuple(context)]\n",
        "          print('return', probs)\n",
        "          return probs\n",
        "          \n",
        "      else:\n",
        "          context=context[1:]\n",
        "          print('baccked off context', context )\n",
        "          prob(model, context)\n",
        "\n",
        "    answer=prob(mod, cont)\n",
        "    print('why',answer)\n",
        "    ## FILL CODE\n",
        "    \n",
        "    return answer"
      ]
    },
    {
      "cell_type": "code",
      "execution_count": 235,
      "metadata": {
        "id": "6vA_wInsBaQt"
      },
      "outputs": [],
      "source": [
        "def generate(model):\n",
        "    '''\n",
        "    Parameters: \n",
        "    model (dictionary of dictionary)\n",
        "    {\n",
        "        context: {word:probability of this word given context}\n",
        "    }\n",
        "    \n",
        "    Retunrs:\n",
        "    sentence (list of strings): a sentence sampled according to the language model. \n",
        "    \n",
        "\n",
        "    '''\n",
        "    # generate a sentence. A sentence starts with a <s> and ends with a </s>\n",
        "    # Possiblly a use function is:\n",
        "    # np.random.choice(x, 1, p = y)\n",
        "\n",
        "    # where x is a list of things to sample from\n",
        "    # and y is a list of probability (of the same length as x)\n",
        "    sentence = [\"<s>\"]\n",
        "    while sentence[-1] != \"</s>\" and len(sentence)<100:\n",
        "        ## FILL CODE\n",
        "        prob_diztribution = get_proba_distrib(model, sentence)\n",
        "        print('dist',prob_diztribution)\n",
        "        choice = np.random.choice(a=list(prob_diztribution.keys()), p=list(prob_diztribution.values()))\n",
        "        print('choice', choice)\n",
        "        sentence.append(choice)\n",
        "\n",
        "\n",
        "        \n",
        "    return sentence"
      ]
    },
    {
      "cell_type": "code",
      "source": [
        "s = [\"<s>\"]\n",
        "tuple(s) in model.keys()\n",
        "sum(model[tuple(s)].values())"
      ],
      "metadata": {
        "colab": {
          "base_uri": "https://localhost:8080/"
        },
        "id": "a8kOp-BtKGfW",
        "outputId": "05734641-c8f2-4b0d-ebf0-cf250fec011b"
      },
      "execution_count": 222,
      "outputs": [
        {
          "output_type": "execute_result",
          "data": {
            "text/plain": [
              "1.0000000000000044"
            ]
          },
          "metadata": {},
          "execution_count": 222
        }
      ]
    },
    {
      "cell_type": "code",
      "source": [
        "model[tuple]"
      ],
      "metadata": {
        "colab": {
          "base_uri": "https://localhost:8080/"
        },
        "id": "s6jOsXDMKDD3",
        "outputId": "ddbaf62e-903e-47f2-85bd-e9b9462e96ca"
      },
      "execution_count": 186,
      "outputs": [
        {
          "output_type": "execute_result",
          "data": {
            "text/plain": [
              "defaultdict(<function __main__.build_ngram.<locals>.<lambda>.<locals>.<lambda>>,\n",
              "            {})"
            ]
          },
          "metadata": {},
          "execution_count": 186
        }
      ]
    },
    {
      "cell_type": "code",
      "execution_count": 236,
      "metadata": {
        "id": "Q-9DO4BNBaQt",
        "colab": {
          "base_uri": "https://localhost:8080/",
          "height": 635
        },
        "outputId": "5cc22919-9785-417c-da45-f88545323c95"
      },
      "outputs": [
        {
          "output_type": "stream",
          "name": "stdout",
          "text": [
            "conntext ('<s>',)\n",
            "return defaultdict(<function build_ngram.<locals>.<lambda>.<locals>.<lambda> at 0x7f4ac7a51dd0>, {'my': 0.013127135407300846, 'tomorrow': 0.0003596475454055026, 'he': 0.035425283222442004, 'tom': 0.2064376910627585, 'john': 0.000539471318108254, 'some': 0.0017982377270275131, 'when': 0.007552598453515555, \"don't\": 0.006114008271893544, 'that': 0.004315770544866032, 'sami': 0.03272792663190074, 'this': 0.010070131271354072, 'to': 0.002337709045135767, 'what': 0.011868368998381586, 'you': 0.014206078043517353, 'i': 0.1251573458011149, 'the': 0.058802373673799674, '<unk>': 0.03416651681352275, 'they': 0.051789246538392376, 'we': 0.01906131990649164, 'a': 0.005394713181082539, 'burn': 0.0003596475454055026, 'would': 0.0016184139543247618, 'in': 0.006653479590001799, 'being': 0.0001798237727027513, 'is': 0.00827189354432656, 'due': 0.000539471318108254, \"i've\": 0.0032368279086495235, 'where': 0.00557453695378529, 'if': 0.009710483725948571, 'there': 0.008092069771623809, \"they're\": 0.002877180363244021, \"i'll\": 0.005934184499190793, \"that's\": 0.0032368279086495235, \"what's\": 0.0035964754540550262, 'now': 0.001258766408919259, 'neither': 0.0026973565905412697, 'has': 0.000539471318108254, 'she': 0.01510519690703111, 'oh,': 0.000539471318108254, 'her': 0.0017982377270275131, 'was': 0.001078942636216508, 'do': 0.00989030749865132, 'mary': 0.011868368998381586, 'philosophy': 0.0001798237727027513, \"we're\": 0.004315770544866032, 'one': 0.0017982377270275131, 'those': 0.001078942636216508, 'beauty': 0.0001798237727027513, '\"what\\'s': 0.0003596475454055026, 'your': 0.0019780614997302643, 'why': 0.005754360726488042, 'even': 0.002157885272433016, 'tomorrow,': 0.000539471318108254, \"it's\": 0.0071929509081100525, 'many': 0.001078942636216508, 'are': 0.005934184499190793, 'age': 0.0001798237727027513, 'body': 0.0001798237727027513, 'lady': 0.0001798237727027513, 'as': 0.0032368279086495235, 'all': 0.0039561229994605285, 'thomas': 0.0001798237727027513, \"i'm\": 0.015285020679733861, 'most': 0.0008991188635137566, 'please': 0.0062938320445962955, 'stick': 0.0001798237727027513, 'japan,': 0.0001798237727027513, 'who': 0.00413594677216328, 'for': 0.0019780614997302643, 'der': 0.0003596475454055026, 'it': 0.013306959180003597, 'dan': 0.0007192950908110052, 'did': 0.0048552418629742855, 'call': 0.0003596475454055026, \"wouldn't\": 0.000539471318108254, 'bill': 0.0003596475454055026, 'compared': 0.0001798237727027513, 'lead': 0.0001798237727027513, 'open': 0.0003596475454055026, 'layla': 0.0039561229994605285, 'well,': 0.0007192950908110052, '\"we': 0.0003596475454055026, 'gaslighting': 0.0003596475454055026, \"they'll\": 0.0007192950908110052, 'have': 0.0016184139543247618, 'other': 0.0001798237727027513, 'limit': 0.0001798237727027513, \"tom's\": 0.0032368279086495235, 'try': 0.0003596475454055026, 'books': 0.0001798237727027513, 'though': 0.0003596475454055026, 'how': 0.008631541089732063, \"layla's\": 0.000539471318108254, 'while': 0.0007192950908110052, \"sami's\": 0.002517532817838518, 'bees': 0.0001798237727027513, 'can': 0.0035964754540550262, 'tell': 0.0007192950908110052, 'but': 0.0007192950908110052, 'without': 0.0001798237727027513, \"we'll\": 0.0008991188635137566, 'could': 0.0016184139543247618, 'does': 0.0017982377270275131, 'were': 0.000539471318108254, \"you'll\": 0.0007192950908110052, 'make': 0.0001798237727027513, 'his': 0.0035964754540550262, 'russian': 0.0003596475454055026, 'das': 0.0001798237727027513, \"let's\": 0.0035964754540550262, 'du': 0.0001798237727027513, 'pressure': 0.0001798237727027513, 'hurry': 0.0003596475454055026, 'both': 0.002157885272433016, 'focus': 0.0001798237727027513, 'maybe': 0.0014385901816220104, 'show': 0.0001798237727027513, 'rock': 0.0001798237727027513, \"he's\": 0.002157885272433016, 'after': 0.0016184139543247618, 'here': 0.0007192950908110052, 'birds': 0.0003596475454055026, \"we've\": 0.0014385901816220104, 'looking': 0.0001798237727027513, 'thank': 0.0003596475454055026, 'hold': 0.0003596475454055026, 'by': 0.0008991188635137566, 'at': 0.0019780614997302643, 'then': 0.0003596475454055026, 'around': 0.0001798237727027513, 'either': 0.0007192950908110052, \"you'd\": 0.0003596475454055026, 'perhaps': 0.0003596475454055026, 'making': 0.0001798237727027513, \"you're\": 0.00413594677216328, \"i'd\": 0.003057004135946772, 'preparations': 0.0001798237727027513, 'man': 0.000539471318108254, 'because': 0.0008991188635137566, 'oil': 0.0001798237727027513, 'green': 0.0003596475454055026, 'go': 0.000539471318108254, 'two': 0.0007192950908110052, 'unfortunately,': 0.0007192950908110052, 'right': 0.0003596475454055026, '\"what': 0.0003596475454055026, 'since': 0.0003596475454055026, 'actually,': 0.0003596475454055026, \"where's\": 0.0007192950908110052, 'between': 0.0001798237727027513, 'only': 0.0003596475454055026, 'sorry': 0.0001798237727027513, 'these': 0.0007192950908110052, 'everybody': 0.0008991188635137566, 'behold,': 0.0001798237727027513, \"there's\": 0.0026973565905412697, 'from': 0.0007192950908110052, 'get': 0.000539471318108254, 'take': 0.000539471318108254, 'reden': 0.0001798237727027513, 'everyone': 0.0014385901816220104, 'nearly': 0.0001798237727027513, 'peter': 0.000539471318108254, 'somebody': 0.0001798237727027513, 'tom,': 0.0001798237727027513, 'anne': 0.0001798237727027513, \"weren't\": 0.0001798237727027513, 'think': 0.0001798237727027513, 'put': 0.001078942636216508, 'religious': 0.0001798237727027513, 'hire': 0.0001798237727027513, 'teach': 0.0001798237727027513, \"parents'\": 0.0001798237727027513, 'english': 0.0003596475454055026, 'so': 0.0003596475454055026, 'hang': 0.0003596475454055026, 'although': 0.0008991188635137566, \"you've\": 0.0007192950908110052, 'art': 0.0001798237727027513, 'should': 0.0001798237727027513, 'another': 0.0001798237727027513, 'look,': 0.0003596475454055026, 'first': 0.0003596475454055026, 'so,': 0.0001798237727027513, 'towards': 0.0001798237727027513, '\"i': 0.0003596475454055026, 'instead': 0.0001798237727027513, 'space': 0.0001798237727027513, 'die': 0.000539471318108254, 'sometimes': 0.0003596475454055026, 'il': 0.0003596475454055026, 'give': 0.0008991188635137566, 'jane': 0.000539471318108254, 'unlike': 0.0001798237727027513, 'monday': 0.0001798237727027513, 'russia': 0.0001798237727027513, 'boxing': 0.0001798237727027513, 'which': 0.001078942636216508, 'apparently': 0.0001798237727027513, 'boston': 0.0001798237727027513, 'eine': 0.0001798237727027513, 'people': 0.0019780614997302643, 'sorry,': 0.0003596475454055026, 'everything': 0.001078942636216508, 'just': 0.0008991188635137566, '\"is': 0.0003596475454055026, 'with': 0.0003596475454055026, 'linda': 0.0001798237727027513, 'imagine': 0.0003596475454055026, '\"why': 0.000539471318108254, 'germany': 0.0001798237727027513, 'come': 0.0003596475454055026, 'friday': 0.0001798237727027513, 'no': 0.0019780614997302643, 'during': 0.000539471318108254, 'each': 0.0003596475454055026, 'christmas': 0.0001798237727027513, 'let': 0.001258766408919259, 'glancing': 0.0001798237727027513, 'police': 0.0003596475454055026, 'rio': 0.0001798237727027513, 'life': 0.0003596475454055026, 'several': 0.0007192950908110052, 'of': 0.0001798237727027513, 'fadil': 0.001078942636216508, 'taking': 0.0001798237727027513, 'good': 0.0003596475454055026, 'wild': 0.0001798237727027513, 'last': 0.0007192950908110052, \"she's\": 0.0008991188635137566, \"what'll\": 0.0003596475454055026, 'however,': 0.0003596475454055026, 'grab': 0.0001798237727027513, 'use': 0.0001798237727027513, 'excuse': 0.0001798237727027513, 'may': 0.0003596475454055026, 'je': 0.0001798237727027513, 'bob': 0.0003596475454055026, 'astronomers': 0.0001798237727027513, 'stand': 0.0003596475454055026, 'kill': 0.0001798237727027513, 'leave': 0.0003596475454055026, 'moreover,': 0.0001798237727027513, '\"it\\'s': 0.0003596475454055026, 'doing': 0.0001798237727027513, 'catch': 0.0001798237727027513, 'free': 0.0003596475454055026, '\"but': 0.0003596475454055026, 'behind': 0.0001798237727027513, 'american': 0.0001798237727027513, 'lenin': 0.0001798237727027513, \"here's\": 0.0003596475454055026, 'their': 0.0003596475454055026, 'bring': 0.0003596475454055026, 'music': 0.0001798237727027513, 'on': 0.0007192950908110052, 'first,': 0.0003596475454055026, 'today': 0.0003596475454055026, 'almost': 0.0003596475454055026, 'scientists': 0.0003596475454055026, 'figured': 0.0001798237727027513, \"they've\": 0.0007192950908110052, 'keep': 0.0008991188635137566, 'stay': 0.0003596475454055026, '\"they': 0.0001798237727027513, 'whoever': 0.0003596475454055026, 'japan': 0.0003596475454055026, \"can't\": 0.0003596475454055026, 'soon': 0.0001798237727027513, 'before': 0.0007192950908110052, 'truth': 0.0001798237727027513, 'correct': 0.0001798237727027513, 'according': 0.0003596475454055026, 'ask': 0.0001798237727027513, 'and': 0.0007192950908110052, 'mr.': 0.0001798237727027513, 'world': 0.0001798237727027513, '\"it': 0.0001798237727027513, \"aren't\": 0.000539471318108254, 'examine': 0.0001798237727027513, 'finish': 0.0001798237727027513, 'responsibility': 0.0001798237727027513, 'gather': 0.0001798237727027513, '\"do': 0.0001798237727027513, 'auf': 0.0001798237727027513, 'religion': 0.0003596475454055026, 'sit': 0.0003596475454055026, 'mother': 0.000539471318108254, 'whenever': 0.0001798237727027513, 'look': 0.001258766408919259, 'winter': 0.0001798237727027513, 'late': 0.0001798237727027513, 'be': 0.000539471318108254, 'maria': 0.0003596475454055026, 'an': 0.0008991188635137566, \"who's\": 0.0001798237727027513, 'then,': 0.0001798237727027513, '\"when': 0.0003596475454055026, 'az': 0.0003596475454055026, 'remember': 0.0001798237727027513, 'once': 0.0003596475454055026, 'women': 0.0003596475454055026, 'someone': 0.000539471318108254, 'father': 0.0001798237727027513, 'berber': 0.0001798237727027513, 'far': 0.0001798237727027513, 'charlie': 0.0003596475454055026, 'americans': 0.0001798237727027513, '\"a': 0.0001798237727027513, 'csak': 0.0001798237727027513, 'black': 0.0001798237727027513, 'break': 0.0001798237727027513, 'nothing': 0.0003596475454055026, 'es': 0.0001798237727027513, 'wash': 0.0001798237727027513, 'will': 0.0001798237727027513, 'every': 0.000539471318108254, 'storms': 0.0001798237727027513, 'paris': 0.0001798237727027513, 'motivation': 0.0001798237727027513, 'cut': 0.0003596475454055026, 'often': 0.0001798237727027513, '\"i\\'m': 0.0001798237727027513, 'back,': 0.0001798237727027513, 'out': 0.0001798237727027513, 'studying': 0.0001798237727027513, 'schools': 0.0001798237727027513, 'aiming': 0.0001798237727027513, 'our': 0.0008991188635137566, 'part': 0.0001798237727027513, 'whatever': 0.0001798237727027513, 'yesterday': 0.0003596475454055026, 'ten': 0.0003596475454055026, 'stop': 0.0003596475454055026, 'yesterday,': 0.0001798237727027513, 'children': 0.0003596475454055026, 'turn': 0.0003596475454055026, 'none': 0.0001798237727027513, 'mathematik': 0.0001798237727027513, 'write': 0.0001798237727027513, 'rich': 0.0001798237727027513, 'spring': 0.0003596475454055026, 'happy': 0.0001798237727027513, 'except': 0.0001798237727027513, 'pass': 0.0001798237727027513, 'eager': 0.0001798237727027513, 'america': 0.0001798237727027513, 'susan': 0.0003596475454055026, 'wenn': 0.0001798237727027513, 'half': 0.0003596475454055026, 'seeing': 0.0001798237727027513, 'business': 0.0001798237727027513, 'o,': 0.0001798237727027513, 'along': 0.0001798237727027513, 'history': 0.0001798237727027513, 'i’m': 0.0001798237727027513, 'things': 0.0001798237727027513, 'near': 0.0001798237727027513, 'under': 0.0001798237727027513, 'war': 0.0001798237727027513, 'read': 0.0001798237727027513, 'watch': 0.0003596475454055026, 'whether': 0.0001798237727027513, 'little': 0.0001798237727027513, 'everywhere': 0.0001798237727027513, 'fear': 0.0001798237727027513, 'strong': 0.0001798237727027513, 'ich': 0.0001798237727027513, 'come,': 0.0001798237727027513, 'together': 0.0001798237727027513, 'language': 0.0001798237727027513, 'powerful': 0.0001798237727027513, 'throw': 0.0001798237727027513, '\"you': 0.0001798237727027513, 'workers': 0.0001798237727027513, 'god': 0.0001798237727027513, '\"are': 0.0001798237727027513, '\"will': 0.000539471318108254, 'such': 0.0001798237727027513, 'thanks': 0.0001798237727027513, 'marriage': 0.0001798237727027513, 'parents': 0.0001798237727027513, 'father,': 0.0001798237727027513, 'ida': 0.0001798237727027513, 'see': 0.000539471318108254, 'set': 0.0001798237727027513, \"they'd\": 0.0001798237727027513, \"mary's\": 0.0001798237727027513, 'dogs': 0.0001798237727027513, 'holy': 0.0001798237727027513, 'fresh': 0.0001798237727027513, 'return': 0.0001798237727027513, '1.': 0.0001798237727027513, 'great': 0.0001798237727027513, 'love': 0.0001798237727027513, \"he'll\": 0.0003596475454055026, 'road': 0.0001798237727027513, 'person': 0.0001798237727027513, 'upon': 0.0001798237727027513, 'angels': 0.0001798237727027513, 'three': 0.0001798237727027513, 'dear': 0.0001798237727027513, 'colonel': 0.0001798237727027513, '-': 0.0001798237727027513, 'japanese': 0.0001798237727027513, 'send': 0.0001798237727027513, 'animals': 0.0001798237727027513, '\"the': 0.0001798237727027513, '\"how': 0.0001798237727027513, 'muslims': 0.0001798237727027513, 'solar': 0.0001798237727027513, 'buildings': 0.0001798237727027513, 'ravenswood': 0.0001798237727027513, 'mögen': 0.0001798237727027513, 'therefore': 0.0001798237727027513, 'beer': 0.0001798237727027513, 'notice': 0.0001798237727027513, 'ha': 0.0001798237727027513, 'professor': 0.0001798237727027513, 'anybody': 0.0001798237727027513, 'arrived': 0.0001798237727027513, \"how's\": 0.0001798237727027513, 'apples': 0.0001798237727027513, 'tonight': 0.0001798237727027513, 'doctors': 0.0001798237727027513, 'thousands': 0.0001798237727027513, 'round': 0.0001798237727027513, '<s>': 0.0})\n",
            "why defaultdict(<function build_ngram.<locals>.<lambda>.<locals>.<lambda> at 0x7f4ac7a51dd0>, {'my': 0.013127135407300846, 'tomorrow': 0.0003596475454055026, 'he': 0.035425283222442004, 'tom': 0.2064376910627585, 'john': 0.000539471318108254, 'some': 0.0017982377270275131, 'when': 0.007552598453515555, \"don't\": 0.006114008271893544, 'that': 0.004315770544866032, 'sami': 0.03272792663190074, 'this': 0.010070131271354072, 'to': 0.002337709045135767, 'what': 0.011868368998381586, 'you': 0.014206078043517353, 'i': 0.1251573458011149, 'the': 0.058802373673799674, '<unk>': 0.03416651681352275, 'they': 0.051789246538392376, 'we': 0.01906131990649164, 'a': 0.005394713181082539, 'burn': 0.0003596475454055026, 'would': 0.0016184139543247618, 'in': 0.006653479590001799, 'being': 0.0001798237727027513, 'is': 0.00827189354432656, 'due': 0.000539471318108254, \"i've\": 0.0032368279086495235, 'where': 0.00557453695378529, 'if': 0.009710483725948571, 'there': 0.008092069771623809, \"they're\": 0.002877180363244021, \"i'll\": 0.005934184499190793, \"that's\": 0.0032368279086495235, \"what's\": 0.0035964754540550262, 'now': 0.001258766408919259, 'neither': 0.0026973565905412697, 'has': 0.000539471318108254, 'she': 0.01510519690703111, 'oh,': 0.000539471318108254, 'her': 0.0017982377270275131, 'was': 0.001078942636216508, 'do': 0.00989030749865132, 'mary': 0.011868368998381586, 'philosophy': 0.0001798237727027513, \"we're\": 0.004315770544866032, 'one': 0.0017982377270275131, 'those': 0.001078942636216508, 'beauty': 0.0001798237727027513, '\"what\\'s': 0.0003596475454055026, 'your': 0.0019780614997302643, 'why': 0.005754360726488042, 'even': 0.002157885272433016, 'tomorrow,': 0.000539471318108254, \"it's\": 0.0071929509081100525, 'many': 0.001078942636216508, 'are': 0.005934184499190793, 'age': 0.0001798237727027513, 'body': 0.0001798237727027513, 'lady': 0.0001798237727027513, 'as': 0.0032368279086495235, 'all': 0.0039561229994605285, 'thomas': 0.0001798237727027513, \"i'm\": 0.015285020679733861, 'most': 0.0008991188635137566, 'please': 0.0062938320445962955, 'stick': 0.0001798237727027513, 'japan,': 0.0001798237727027513, 'who': 0.00413594677216328, 'for': 0.0019780614997302643, 'der': 0.0003596475454055026, 'it': 0.013306959180003597, 'dan': 0.0007192950908110052, 'did': 0.0048552418629742855, 'call': 0.0003596475454055026, \"wouldn't\": 0.000539471318108254, 'bill': 0.0003596475454055026, 'compared': 0.0001798237727027513, 'lead': 0.0001798237727027513, 'open': 0.0003596475454055026, 'layla': 0.0039561229994605285, 'well,': 0.0007192950908110052, '\"we': 0.0003596475454055026, 'gaslighting': 0.0003596475454055026, \"they'll\": 0.0007192950908110052, 'have': 0.0016184139543247618, 'other': 0.0001798237727027513, 'limit': 0.0001798237727027513, \"tom's\": 0.0032368279086495235, 'try': 0.0003596475454055026, 'books': 0.0001798237727027513, 'though': 0.0003596475454055026, 'how': 0.008631541089732063, \"layla's\": 0.000539471318108254, 'while': 0.0007192950908110052, \"sami's\": 0.002517532817838518, 'bees': 0.0001798237727027513, 'can': 0.0035964754540550262, 'tell': 0.0007192950908110052, 'but': 0.0007192950908110052, 'without': 0.0001798237727027513, \"we'll\": 0.0008991188635137566, 'could': 0.0016184139543247618, 'does': 0.0017982377270275131, 'were': 0.000539471318108254, \"you'll\": 0.0007192950908110052, 'make': 0.0001798237727027513, 'his': 0.0035964754540550262, 'russian': 0.0003596475454055026, 'das': 0.0001798237727027513, \"let's\": 0.0035964754540550262, 'du': 0.0001798237727027513, 'pressure': 0.0001798237727027513, 'hurry': 0.0003596475454055026, 'both': 0.002157885272433016, 'focus': 0.0001798237727027513, 'maybe': 0.0014385901816220104, 'show': 0.0001798237727027513, 'rock': 0.0001798237727027513, \"he's\": 0.002157885272433016, 'after': 0.0016184139543247618, 'here': 0.0007192950908110052, 'birds': 0.0003596475454055026, \"we've\": 0.0014385901816220104, 'looking': 0.0001798237727027513, 'thank': 0.0003596475454055026, 'hold': 0.0003596475454055026, 'by': 0.0008991188635137566, 'at': 0.0019780614997302643, 'then': 0.0003596475454055026, 'around': 0.0001798237727027513, 'either': 0.0007192950908110052, \"you'd\": 0.0003596475454055026, 'perhaps': 0.0003596475454055026, 'making': 0.0001798237727027513, \"you're\": 0.00413594677216328, \"i'd\": 0.003057004135946772, 'preparations': 0.0001798237727027513, 'man': 0.000539471318108254, 'because': 0.0008991188635137566, 'oil': 0.0001798237727027513, 'green': 0.0003596475454055026, 'go': 0.000539471318108254, 'two': 0.0007192950908110052, 'unfortunately,': 0.0007192950908110052, 'right': 0.0003596475454055026, '\"what': 0.0003596475454055026, 'since': 0.0003596475454055026, 'actually,': 0.0003596475454055026, \"where's\": 0.0007192950908110052, 'between': 0.0001798237727027513, 'only': 0.0003596475454055026, 'sorry': 0.0001798237727027513, 'these': 0.0007192950908110052, 'everybody': 0.0008991188635137566, 'behold,': 0.0001798237727027513, \"there's\": 0.0026973565905412697, 'from': 0.0007192950908110052, 'get': 0.000539471318108254, 'take': 0.000539471318108254, 'reden': 0.0001798237727027513, 'everyone': 0.0014385901816220104, 'nearly': 0.0001798237727027513, 'peter': 0.000539471318108254, 'somebody': 0.0001798237727027513, 'tom,': 0.0001798237727027513, 'anne': 0.0001798237727027513, \"weren't\": 0.0001798237727027513, 'think': 0.0001798237727027513, 'put': 0.001078942636216508, 'religious': 0.0001798237727027513, 'hire': 0.0001798237727027513, 'teach': 0.0001798237727027513, \"parents'\": 0.0001798237727027513, 'english': 0.0003596475454055026, 'so': 0.0003596475454055026, 'hang': 0.0003596475454055026, 'although': 0.0008991188635137566, \"you've\": 0.0007192950908110052, 'art': 0.0001798237727027513, 'should': 0.0001798237727027513, 'another': 0.0001798237727027513, 'look,': 0.0003596475454055026, 'first': 0.0003596475454055026, 'so,': 0.0001798237727027513, 'towards': 0.0001798237727027513, '\"i': 0.0003596475454055026, 'instead': 0.0001798237727027513, 'space': 0.0001798237727027513, 'die': 0.000539471318108254, 'sometimes': 0.0003596475454055026, 'il': 0.0003596475454055026, 'give': 0.0008991188635137566, 'jane': 0.000539471318108254, 'unlike': 0.0001798237727027513, 'monday': 0.0001798237727027513, 'russia': 0.0001798237727027513, 'boxing': 0.0001798237727027513, 'which': 0.001078942636216508, 'apparently': 0.0001798237727027513, 'boston': 0.0001798237727027513, 'eine': 0.0001798237727027513, 'people': 0.0019780614997302643, 'sorry,': 0.0003596475454055026, 'everything': 0.001078942636216508, 'just': 0.0008991188635137566, '\"is': 0.0003596475454055026, 'with': 0.0003596475454055026, 'linda': 0.0001798237727027513, 'imagine': 0.0003596475454055026, '\"why': 0.000539471318108254, 'germany': 0.0001798237727027513, 'come': 0.0003596475454055026, 'friday': 0.0001798237727027513, 'no': 0.0019780614997302643, 'during': 0.000539471318108254, 'each': 0.0003596475454055026, 'christmas': 0.0001798237727027513, 'let': 0.001258766408919259, 'glancing': 0.0001798237727027513, 'police': 0.0003596475454055026, 'rio': 0.0001798237727027513, 'life': 0.0003596475454055026, 'several': 0.0007192950908110052, 'of': 0.0001798237727027513, 'fadil': 0.001078942636216508, 'taking': 0.0001798237727027513, 'good': 0.0003596475454055026, 'wild': 0.0001798237727027513, 'last': 0.0007192950908110052, \"she's\": 0.0008991188635137566, \"what'll\": 0.0003596475454055026, 'however,': 0.0003596475454055026, 'grab': 0.0001798237727027513, 'use': 0.0001798237727027513, 'excuse': 0.0001798237727027513, 'may': 0.0003596475454055026, 'je': 0.0001798237727027513, 'bob': 0.0003596475454055026, 'astronomers': 0.0001798237727027513, 'stand': 0.0003596475454055026, 'kill': 0.0001798237727027513, 'leave': 0.0003596475454055026, 'moreover,': 0.0001798237727027513, '\"it\\'s': 0.0003596475454055026, 'doing': 0.0001798237727027513, 'catch': 0.0001798237727027513, 'free': 0.0003596475454055026, '\"but': 0.0003596475454055026, 'behind': 0.0001798237727027513, 'american': 0.0001798237727027513, 'lenin': 0.0001798237727027513, \"here's\": 0.0003596475454055026, 'their': 0.0003596475454055026, 'bring': 0.0003596475454055026, 'music': 0.0001798237727027513, 'on': 0.0007192950908110052, 'first,': 0.0003596475454055026, 'today': 0.0003596475454055026, 'almost': 0.0003596475454055026, 'scientists': 0.0003596475454055026, 'figured': 0.0001798237727027513, \"they've\": 0.0007192950908110052, 'keep': 0.0008991188635137566, 'stay': 0.0003596475454055026, '\"they': 0.0001798237727027513, 'whoever': 0.0003596475454055026, 'japan': 0.0003596475454055026, \"can't\": 0.0003596475454055026, 'soon': 0.0001798237727027513, 'before': 0.0007192950908110052, 'truth': 0.0001798237727027513, 'correct': 0.0001798237727027513, 'according': 0.0003596475454055026, 'ask': 0.0001798237727027513, 'and': 0.0007192950908110052, 'mr.': 0.0001798237727027513, 'world': 0.0001798237727027513, '\"it': 0.0001798237727027513, \"aren't\": 0.000539471318108254, 'examine': 0.0001798237727027513, 'finish': 0.0001798237727027513, 'responsibility': 0.0001798237727027513, 'gather': 0.0001798237727027513, '\"do': 0.0001798237727027513, 'auf': 0.0001798237727027513, 'religion': 0.0003596475454055026, 'sit': 0.0003596475454055026, 'mother': 0.000539471318108254, 'whenever': 0.0001798237727027513, 'look': 0.001258766408919259, 'winter': 0.0001798237727027513, 'late': 0.0001798237727027513, 'be': 0.000539471318108254, 'maria': 0.0003596475454055026, 'an': 0.0008991188635137566, \"who's\": 0.0001798237727027513, 'then,': 0.0001798237727027513, '\"when': 0.0003596475454055026, 'az': 0.0003596475454055026, 'remember': 0.0001798237727027513, 'once': 0.0003596475454055026, 'women': 0.0003596475454055026, 'someone': 0.000539471318108254, 'father': 0.0001798237727027513, 'berber': 0.0001798237727027513, 'far': 0.0001798237727027513, 'charlie': 0.0003596475454055026, 'americans': 0.0001798237727027513, '\"a': 0.0001798237727027513, 'csak': 0.0001798237727027513, 'black': 0.0001798237727027513, 'break': 0.0001798237727027513, 'nothing': 0.0003596475454055026, 'es': 0.0001798237727027513, 'wash': 0.0001798237727027513, 'will': 0.0001798237727027513, 'every': 0.000539471318108254, 'storms': 0.0001798237727027513, 'paris': 0.0001798237727027513, 'motivation': 0.0001798237727027513, 'cut': 0.0003596475454055026, 'often': 0.0001798237727027513, '\"i\\'m': 0.0001798237727027513, 'back,': 0.0001798237727027513, 'out': 0.0001798237727027513, 'studying': 0.0001798237727027513, 'schools': 0.0001798237727027513, 'aiming': 0.0001798237727027513, 'our': 0.0008991188635137566, 'part': 0.0001798237727027513, 'whatever': 0.0001798237727027513, 'yesterday': 0.0003596475454055026, 'ten': 0.0003596475454055026, 'stop': 0.0003596475454055026, 'yesterday,': 0.0001798237727027513, 'children': 0.0003596475454055026, 'turn': 0.0003596475454055026, 'none': 0.0001798237727027513, 'mathematik': 0.0001798237727027513, 'write': 0.0001798237727027513, 'rich': 0.0001798237727027513, 'spring': 0.0003596475454055026, 'happy': 0.0001798237727027513, 'except': 0.0001798237727027513, 'pass': 0.0001798237727027513, 'eager': 0.0001798237727027513, 'america': 0.0001798237727027513, 'susan': 0.0003596475454055026, 'wenn': 0.0001798237727027513, 'half': 0.0003596475454055026, 'seeing': 0.0001798237727027513, 'business': 0.0001798237727027513, 'o,': 0.0001798237727027513, 'along': 0.0001798237727027513, 'history': 0.0001798237727027513, 'i’m': 0.0001798237727027513, 'things': 0.0001798237727027513, 'near': 0.0001798237727027513, 'under': 0.0001798237727027513, 'war': 0.0001798237727027513, 'read': 0.0001798237727027513, 'watch': 0.0003596475454055026, 'whether': 0.0001798237727027513, 'little': 0.0001798237727027513, 'everywhere': 0.0001798237727027513, 'fear': 0.0001798237727027513, 'strong': 0.0001798237727027513, 'ich': 0.0001798237727027513, 'come,': 0.0001798237727027513, 'together': 0.0001798237727027513, 'language': 0.0001798237727027513, 'powerful': 0.0001798237727027513, 'throw': 0.0001798237727027513, '\"you': 0.0001798237727027513, 'workers': 0.0001798237727027513, 'god': 0.0001798237727027513, '\"are': 0.0001798237727027513, '\"will': 0.000539471318108254, 'such': 0.0001798237727027513, 'thanks': 0.0001798237727027513, 'marriage': 0.0001798237727027513, 'parents': 0.0001798237727027513, 'father,': 0.0001798237727027513, 'ida': 0.0001798237727027513, 'see': 0.000539471318108254, 'set': 0.0001798237727027513, \"they'd\": 0.0001798237727027513, \"mary's\": 0.0001798237727027513, 'dogs': 0.0001798237727027513, 'holy': 0.0001798237727027513, 'fresh': 0.0001798237727027513, 'return': 0.0001798237727027513, '1.': 0.0001798237727027513, 'great': 0.0001798237727027513, 'love': 0.0001798237727027513, \"he'll\": 0.0003596475454055026, 'road': 0.0001798237727027513, 'person': 0.0001798237727027513, 'upon': 0.0001798237727027513, 'angels': 0.0001798237727027513, 'three': 0.0001798237727027513, 'dear': 0.0001798237727027513, 'colonel': 0.0001798237727027513, '-': 0.0001798237727027513, 'japanese': 0.0001798237727027513, 'send': 0.0001798237727027513, 'animals': 0.0001798237727027513, '\"the': 0.0001798237727027513, '\"how': 0.0001798237727027513, 'muslims': 0.0001798237727027513, 'solar': 0.0001798237727027513, 'buildings': 0.0001798237727027513, 'ravenswood': 0.0001798237727027513, 'mögen': 0.0001798237727027513, 'therefore': 0.0001798237727027513, 'beer': 0.0001798237727027513, 'notice': 0.0001798237727027513, 'ha': 0.0001798237727027513, 'professor': 0.0001798237727027513, 'anybody': 0.0001798237727027513, 'arrived': 0.0001798237727027513, \"how's\": 0.0001798237727027513, 'apples': 0.0001798237727027513, 'tonight': 0.0001798237727027513, 'doctors': 0.0001798237727027513, 'thousands': 0.0001798237727027513, 'round': 0.0001798237727027513, '<s>': 0.0})\n",
            "dist defaultdict(<function build_ngram.<locals>.<lambda>.<locals>.<lambda> at 0x7f4ac7a51dd0>, {'my': 0.013127135407300846, 'tomorrow': 0.0003596475454055026, 'he': 0.035425283222442004, 'tom': 0.2064376910627585, 'john': 0.000539471318108254, 'some': 0.0017982377270275131, 'when': 0.007552598453515555, \"don't\": 0.006114008271893544, 'that': 0.004315770544866032, 'sami': 0.03272792663190074, 'this': 0.010070131271354072, 'to': 0.002337709045135767, 'what': 0.011868368998381586, 'you': 0.014206078043517353, 'i': 0.1251573458011149, 'the': 0.058802373673799674, '<unk>': 0.03416651681352275, 'they': 0.051789246538392376, 'we': 0.01906131990649164, 'a': 0.005394713181082539, 'burn': 0.0003596475454055026, 'would': 0.0016184139543247618, 'in': 0.006653479590001799, 'being': 0.0001798237727027513, 'is': 0.00827189354432656, 'due': 0.000539471318108254, \"i've\": 0.0032368279086495235, 'where': 0.00557453695378529, 'if': 0.009710483725948571, 'there': 0.008092069771623809, \"they're\": 0.002877180363244021, \"i'll\": 0.005934184499190793, \"that's\": 0.0032368279086495235, \"what's\": 0.0035964754540550262, 'now': 0.001258766408919259, 'neither': 0.0026973565905412697, 'has': 0.000539471318108254, 'she': 0.01510519690703111, 'oh,': 0.000539471318108254, 'her': 0.0017982377270275131, 'was': 0.001078942636216508, 'do': 0.00989030749865132, 'mary': 0.011868368998381586, 'philosophy': 0.0001798237727027513, \"we're\": 0.004315770544866032, 'one': 0.0017982377270275131, 'those': 0.001078942636216508, 'beauty': 0.0001798237727027513, '\"what\\'s': 0.0003596475454055026, 'your': 0.0019780614997302643, 'why': 0.005754360726488042, 'even': 0.002157885272433016, 'tomorrow,': 0.000539471318108254, \"it's\": 0.0071929509081100525, 'many': 0.001078942636216508, 'are': 0.005934184499190793, 'age': 0.0001798237727027513, 'body': 0.0001798237727027513, 'lady': 0.0001798237727027513, 'as': 0.0032368279086495235, 'all': 0.0039561229994605285, 'thomas': 0.0001798237727027513, \"i'm\": 0.015285020679733861, 'most': 0.0008991188635137566, 'please': 0.0062938320445962955, 'stick': 0.0001798237727027513, 'japan,': 0.0001798237727027513, 'who': 0.00413594677216328, 'for': 0.0019780614997302643, 'der': 0.0003596475454055026, 'it': 0.013306959180003597, 'dan': 0.0007192950908110052, 'did': 0.0048552418629742855, 'call': 0.0003596475454055026, \"wouldn't\": 0.000539471318108254, 'bill': 0.0003596475454055026, 'compared': 0.0001798237727027513, 'lead': 0.0001798237727027513, 'open': 0.0003596475454055026, 'layla': 0.0039561229994605285, 'well,': 0.0007192950908110052, '\"we': 0.0003596475454055026, 'gaslighting': 0.0003596475454055026, \"they'll\": 0.0007192950908110052, 'have': 0.0016184139543247618, 'other': 0.0001798237727027513, 'limit': 0.0001798237727027513, \"tom's\": 0.0032368279086495235, 'try': 0.0003596475454055026, 'books': 0.0001798237727027513, 'though': 0.0003596475454055026, 'how': 0.008631541089732063, \"layla's\": 0.000539471318108254, 'while': 0.0007192950908110052, \"sami's\": 0.002517532817838518, 'bees': 0.0001798237727027513, 'can': 0.0035964754540550262, 'tell': 0.0007192950908110052, 'but': 0.0007192950908110052, 'without': 0.0001798237727027513, \"we'll\": 0.0008991188635137566, 'could': 0.0016184139543247618, 'does': 0.0017982377270275131, 'were': 0.000539471318108254, \"you'll\": 0.0007192950908110052, 'make': 0.0001798237727027513, 'his': 0.0035964754540550262, 'russian': 0.0003596475454055026, 'das': 0.0001798237727027513, \"let's\": 0.0035964754540550262, 'du': 0.0001798237727027513, 'pressure': 0.0001798237727027513, 'hurry': 0.0003596475454055026, 'both': 0.002157885272433016, 'focus': 0.0001798237727027513, 'maybe': 0.0014385901816220104, 'show': 0.0001798237727027513, 'rock': 0.0001798237727027513, \"he's\": 0.002157885272433016, 'after': 0.0016184139543247618, 'here': 0.0007192950908110052, 'birds': 0.0003596475454055026, \"we've\": 0.0014385901816220104, 'looking': 0.0001798237727027513, 'thank': 0.0003596475454055026, 'hold': 0.0003596475454055026, 'by': 0.0008991188635137566, 'at': 0.0019780614997302643, 'then': 0.0003596475454055026, 'around': 0.0001798237727027513, 'either': 0.0007192950908110052, \"you'd\": 0.0003596475454055026, 'perhaps': 0.0003596475454055026, 'making': 0.0001798237727027513, \"you're\": 0.00413594677216328, \"i'd\": 0.003057004135946772, 'preparations': 0.0001798237727027513, 'man': 0.000539471318108254, 'because': 0.0008991188635137566, 'oil': 0.0001798237727027513, 'green': 0.0003596475454055026, 'go': 0.000539471318108254, 'two': 0.0007192950908110052, 'unfortunately,': 0.0007192950908110052, 'right': 0.0003596475454055026, '\"what': 0.0003596475454055026, 'since': 0.0003596475454055026, 'actually,': 0.0003596475454055026, \"where's\": 0.0007192950908110052, 'between': 0.0001798237727027513, 'only': 0.0003596475454055026, 'sorry': 0.0001798237727027513, 'these': 0.0007192950908110052, 'everybody': 0.0008991188635137566, 'behold,': 0.0001798237727027513, \"there's\": 0.0026973565905412697, 'from': 0.0007192950908110052, 'get': 0.000539471318108254, 'take': 0.000539471318108254, 'reden': 0.0001798237727027513, 'everyone': 0.0014385901816220104, 'nearly': 0.0001798237727027513, 'peter': 0.000539471318108254, 'somebody': 0.0001798237727027513, 'tom,': 0.0001798237727027513, 'anne': 0.0001798237727027513, \"weren't\": 0.0001798237727027513, 'think': 0.0001798237727027513, 'put': 0.001078942636216508, 'religious': 0.0001798237727027513, 'hire': 0.0001798237727027513, 'teach': 0.0001798237727027513, \"parents'\": 0.0001798237727027513, 'english': 0.0003596475454055026, 'so': 0.0003596475454055026, 'hang': 0.0003596475454055026, 'although': 0.0008991188635137566, \"you've\": 0.0007192950908110052, 'art': 0.0001798237727027513, 'should': 0.0001798237727027513, 'another': 0.0001798237727027513, 'look,': 0.0003596475454055026, 'first': 0.0003596475454055026, 'so,': 0.0001798237727027513, 'towards': 0.0001798237727027513, '\"i': 0.0003596475454055026, 'instead': 0.0001798237727027513, 'space': 0.0001798237727027513, 'die': 0.000539471318108254, 'sometimes': 0.0003596475454055026, 'il': 0.0003596475454055026, 'give': 0.0008991188635137566, 'jane': 0.000539471318108254, 'unlike': 0.0001798237727027513, 'monday': 0.0001798237727027513, 'russia': 0.0001798237727027513, 'boxing': 0.0001798237727027513, 'which': 0.001078942636216508, 'apparently': 0.0001798237727027513, 'boston': 0.0001798237727027513, 'eine': 0.0001798237727027513, 'people': 0.0019780614997302643, 'sorry,': 0.0003596475454055026, 'everything': 0.001078942636216508, 'just': 0.0008991188635137566, '\"is': 0.0003596475454055026, 'with': 0.0003596475454055026, 'linda': 0.0001798237727027513, 'imagine': 0.0003596475454055026, '\"why': 0.000539471318108254, 'germany': 0.0001798237727027513, 'come': 0.0003596475454055026, 'friday': 0.0001798237727027513, 'no': 0.0019780614997302643, 'during': 0.000539471318108254, 'each': 0.0003596475454055026, 'christmas': 0.0001798237727027513, 'let': 0.001258766408919259, 'glancing': 0.0001798237727027513, 'police': 0.0003596475454055026, 'rio': 0.0001798237727027513, 'life': 0.0003596475454055026, 'several': 0.0007192950908110052, 'of': 0.0001798237727027513, 'fadil': 0.001078942636216508, 'taking': 0.0001798237727027513, 'good': 0.0003596475454055026, 'wild': 0.0001798237727027513, 'last': 0.0007192950908110052, \"she's\": 0.0008991188635137566, \"what'll\": 0.0003596475454055026, 'however,': 0.0003596475454055026, 'grab': 0.0001798237727027513, 'use': 0.0001798237727027513, 'excuse': 0.0001798237727027513, 'may': 0.0003596475454055026, 'je': 0.0001798237727027513, 'bob': 0.0003596475454055026, 'astronomers': 0.0001798237727027513, 'stand': 0.0003596475454055026, 'kill': 0.0001798237727027513, 'leave': 0.0003596475454055026, 'moreover,': 0.0001798237727027513, '\"it\\'s': 0.0003596475454055026, 'doing': 0.0001798237727027513, 'catch': 0.0001798237727027513, 'free': 0.0003596475454055026, '\"but': 0.0003596475454055026, 'behind': 0.0001798237727027513, 'american': 0.0001798237727027513, 'lenin': 0.0001798237727027513, \"here's\": 0.0003596475454055026, 'their': 0.0003596475454055026, 'bring': 0.0003596475454055026, 'music': 0.0001798237727027513, 'on': 0.0007192950908110052, 'first,': 0.0003596475454055026, 'today': 0.0003596475454055026, 'almost': 0.0003596475454055026, 'scientists': 0.0003596475454055026, 'figured': 0.0001798237727027513, \"they've\": 0.0007192950908110052, 'keep': 0.0008991188635137566, 'stay': 0.0003596475454055026, '\"they': 0.0001798237727027513, 'whoever': 0.0003596475454055026, 'japan': 0.0003596475454055026, \"can't\": 0.0003596475454055026, 'soon': 0.0001798237727027513, 'before': 0.0007192950908110052, 'truth': 0.0001798237727027513, 'correct': 0.0001798237727027513, 'according': 0.0003596475454055026, 'ask': 0.0001798237727027513, 'and': 0.0007192950908110052, 'mr.': 0.0001798237727027513, 'world': 0.0001798237727027513, '\"it': 0.0001798237727027513, \"aren't\": 0.000539471318108254, 'examine': 0.0001798237727027513, 'finish': 0.0001798237727027513, 'responsibility': 0.0001798237727027513, 'gather': 0.0001798237727027513, '\"do': 0.0001798237727027513, 'auf': 0.0001798237727027513, 'religion': 0.0003596475454055026, 'sit': 0.0003596475454055026, 'mother': 0.000539471318108254, 'whenever': 0.0001798237727027513, 'look': 0.001258766408919259, 'winter': 0.0001798237727027513, 'late': 0.0001798237727027513, 'be': 0.000539471318108254, 'maria': 0.0003596475454055026, 'an': 0.0008991188635137566, \"who's\": 0.0001798237727027513, 'then,': 0.0001798237727027513, '\"when': 0.0003596475454055026, 'az': 0.0003596475454055026, 'remember': 0.0001798237727027513, 'once': 0.0003596475454055026, 'women': 0.0003596475454055026, 'someone': 0.000539471318108254, 'father': 0.0001798237727027513, 'berber': 0.0001798237727027513, 'far': 0.0001798237727027513, 'charlie': 0.0003596475454055026, 'americans': 0.0001798237727027513, '\"a': 0.0001798237727027513, 'csak': 0.0001798237727027513, 'black': 0.0001798237727027513, 'break': 0.0001798237727027513, 'nothing': 0.0003596475454055026, 'es': 0.0001798237727027513, 'wash': 0.0001798237727027513, 'will': 0.0001798237727027513, 'every': 0.000539471318108254, 'storms': 0.0001798237727027513, 'paris': 0.0001798237727027513, 'motivation': 0.0001798237727027513, 'cut': 0.0003596475454055026, 'often': 0.0001798237727027513, '\"i\\'m': 0.0001798237727027513, 'back,': 0.0001798237727027513, 'out': 0.0001798237727027513, 'studying': 0.0001798237727027513, 'schools': 0.0001798237727027513, 'aiming': 0.0001798237727027513, 'our': 0.0008991188635137566, 'part': 0.0001798237727027513, 'whatever': 0.0001798237727027513, 'yesterday': 0.0003596475454055026, 'ten': 0.0003596475454055026, 'stop': 0.0003596475454055026, 'yesterday,': 0.0001798237727027513, 'children': 0.0003596475454055026, 'turn': 0.0003596475454055026, 'none': 0.0001798237727027513, 'mathematik': 0.0001798237727027513, 'write': 0.0001798237727027513, 'rich': 0.0001798237727027513, 'spring': 0.0003596475454055026, 'happy': 0.0001798237727027513, 'except': 0.0001798237727027513, 'pass': 0.0001798237727027513, 'eager': 0.0001798237727027513, 'america': 0.0001798237727027513, 'susan': 0.0003596475454055026, 'wenn': 0.0001798237727027513, 'half': 0.0003596475454055026, 'seeing': 0.0001798237727027513, 'business': 0.0001798237727027513, 'o,': 0.0001798237727027513, 'along': 0.0001798237727027513, 'history': 0.0001798237727027513, 'i’m': 0.0001798237727027513, 'things': 0.0001798237727027513, 'near': 0.0001798237727027513, 'under': 0.0001798237727027513, 'war': 0.0001798237727027513, 'read': 0.0001798237727027513, 'watch': 0.0003596475454055026, 'whether': 0.0001798237727027513, 'little': 0.0001798237727027513, 'everywhere': 0.0001798237727027513, 'fear': 0.0001798237727027513, 'strong': 0.0001798237727027513, 'ich': 0.0001798237727027513, 'come,': 0.0001798237727027513, 'together': 0.0001798237727027513, 'language': 0.0001798237727027513, 'powerful': 0.0001798237727027513, 'throw': 0.0001798237727027513, '\"you': 0.0001798237727027513, 'workers': 0.0001798237727027513, 'god': 0.0001798237727027513, '\"are': 0.0001798237727027513, '\"will': 0.000539471318108254, 'such': 0.0001798237727027513, 'thanks': 0.0001798237727027513, 'marriage': 0.0001798237727027513, 'parents': 0.0001798237727027513, 'father,': 0.0001798237727027513, 'ida': 0.0001798237727027513, 'see': 0.000539471318108254, 'set': 0.0001798237727027513, \"they'd\": 0.0001798237727027513, \"mary's\": 0.0001798237727027513, 'dogs': 0.0001798237727027513, 'holy': 0.0001798237727027513, 'fresh': 0.0001798237727027513, 'return': 0.0001798237727027513, '1.': 0.0001798237727027513, 'great': 0.0001798237727027513, 'love': 0.0001798237727027513, \"he'll\": 0.0003596475454055026, 'road': 0.0001798237727027513, 'person': 0.0001798237727027513, 'upon': 0.0001798237727027513, 'angels': 0.0001798237727027513, 'three': 0.0001798237727027513, 'dear': 0.0001798237727027513, 'colonel': 0.0001798237727027513, '-': 0.0001798237727027513, 'japanese': 0.0001798237727027513, 'send': 0.0001798237727027513, 'animals': 0.0001798237727027513, '\"the': 0.0001798237727027513, '\"how': 0.0001798237727027513, 'muslims': 0.0001798237727027513, 'solar': 0.0001798237727027513, 'buildings': 0.0001798237727027513, 'ravenswood': 0.0001798237727027513, 'mögen': 0.0001798237727027513, 'therefore': 0.0001798237727027513, 'beer': 0.0001798237727027513, 'notice': 0.0001798237727027513, 'ha': 0.0001798237727027513, 'professor': 0.0001798237727027513, 'anybody': 0.0001798237727027513, 'arrived': 0.0001798237727027513, \"how's\": 0.0001798237727027513, 'apples': 0.0001798237727027513, 'tonight': 0.0001798237727027513, 'doctors': 0.0001798237727027513, 'thousands': 0.0001798237727027513, 'round': 0.0001798237727027513, '<s>': 0.0})\n",
            "choice my\n",
            "conntext ('<s>', 'my')\n",
            "return defaultdict(<function build_ngram.<locals>.<lambda>.<locals>.<lambda> at 0x7f4ac79fa0e0>, {'<unk>': 0.0821917808219178, 'courage': 0.0136986301369863, 'friend': 0.0273972602739726, 'mother': 0.136986301369863, 'father': 0.2602739726027397, 'grandmother': 0.0684931506849315, 'little': 0.0136986301369863, 'clothes': 0.0273972602739726, 'grandfather': 0.0273972602739726, 'older': 0.0136986301369863, 'house': 0.0136986301369863, 'taking': 0.0136986301369863, 'brother': 0.0958904109589041, 'parents': 0.0410958904109589, 'husband': 0.0136986301369863, 'uncle': 0.0136986301369863, \"grandmother's\": 0.0273972602739726, 'thoughts': 0.0136986301369863, 'son': 0.0136986301369863, 'daughter': 0.0136986301369863, 'office': 0.0136986301369863, 'younger': 0.0136986301369863, 'name': 0.0273972602739726, 'theory': 0.0136986301369863})\n",
            "why defaultdict(<function build_ngram.<locals>.<lambda>.<locals>.<lambda> at 0x7f4ac79fa0e0>, {'<unk>': 0.0821917808219178, 'courage': 0.0136986301369863, 'friend': 0.0273972602739726, 'mother': 0.136986301369863, 'father': 0.2602739726027397, 'grandmother': 0.0684931506849315, 'little': 0.0136986301369863, 'clothes': 0.0273972602739726, 'grandfather': 0.0273972602739726, 'older': 0.0136986301369863, 'house': 0.0136986301369863, 'taking': 0.0136986301369863, 'brother': 0.0958904109589041, 'parents': 0.0410958904109589, 'husband': 0.0136986301369863, 'uncle': 0.0136986301369863, \"grandmother's\": 0.0273972602739726, 'thoughts': 0.0136986301369863, 'son': 0.0136986301369863, 'daughter': 0.0136986301369863, 'office': 0.0136986301369863, 'younger': 0.0136986301369863, 'name': 0.0273972602739726, 'theory': 0.0136986301369863})\n",
            "dist defaultdict(<function build_ngram.<locals>.<lambda>.<locals>.<lambda> at 0x7f4ac79fa0e0>, {'<unk>': 0.0821917808219178, 'courage': 0.0136986301369863, 'friend': 0.0273972602739726, 'mother': 0.136986301369863, 'father': 0.2602739726027397, 'grandmother': 0.0684931506849315, 'little': 0.0136986301369863, 'clothes': 0.0273972602739726, 'grandfather': 0.0273972602739726, 'older': 0.0136986301369863, 'house': 0.0136986301369863, 'taking': 0.0136986301369863, 'brother': 0.0958904109589041, 'parents': 0.0410958904109589, 'husband': 0.0136986301369863, 'uncle': 0.0136986301369863, \"grandmother's\": 0.0273972602739726, 'thoughts': 0.0136986301369863, 'son': 0.0136986301369863, 'daughter': 0.0136986301369863, 'office': 0.0136986301369863, 'younger': 0.0136986301369863, 'name': 0.0273972602739726, 'theory': 0.0136986301369863})\n",
            "choice brother\n",
            "conntext ('<s>', 'my', 'brother')\n",
            "baccked off context ['my', 'brother']\n",
            "conntext ('my', 'brother')\n",
            "return defaultdict(<function build_ngram.<locals>.<lambda>.<locals>.<lambda> at 0x7f4ac753db90>, {'go': 0.1111111111111111, '<unk>': 0.1111111111111111, 'must': 0.1111111111111111, 'has': 0.1111111111111111, 'leaves': 0.1111111111111111, 'insisted': 0.1111111111111111, 'is': 0.1111111111111111, 'in': 0.1111111111111111, 'usually': 0.1111111111111111})\n",
            "why None\n",
            "dist None\n"
          ]
        },
        {
          "output_type": "error",
          "ename": "AttributeError",
          "evalue": "ignored",
          "traceback": [
            "\u001b[0;31m---------------------------------------------------------------------------\u001b[0m",
            "\u001b[0;31mAttributeError\u001b[0m                            Traceback (most recent call last)",
            "\u001b[0;32m<ipython-input-236-029936ec0d4a>\u001b[0m in \u001b[0;36m<module>\u001b[0;34m()\u001b[0m\n\u001b[1;32m      1\u001b[0m \u001b[0;31m# GENERATE A SENTENCE FROM THE MODEL\u001b[0m\u001b[0;34m\u001b[0m\u001b[0;34m\u001b[0m\u001b[0;34m\u001b[0m\u001b[0m\n\u001b[1;32m      2\u001b[0m \u001b[0;34m\u001b[0m\u001b[0m\n\u001b[0;32m----> 3\u001b[0;31m \u001b[0mprint\u001b[0m\u001b[0;34m(\u001b[0m\u001b[0;34m\"Generated sentence: \"\u001b[0m\u001b[0;34m,\u001b[0m\u001b[0mgenerate\u001b[0m\u001b[0;34m(\u001b[0m\u001b[0mmodel\u001b[0m\u001b[0;34m)\u001b[0m\u001b[0;34m)\u001b[0m\u001b[0;34m\u001b[0m\u001b[0;34m\u001b[0m\u001b[0m\n\u001b[0m",
            "\u001b[0;32m<ipython-input-235-dfd073f71a35>\u001b[0m in \u001b[0;36mgenerate\u001b[0;34m(model)\u001b[0m\n\u001b[1;32m     23\u001b[0m         \u001b[0mprob_diztribution\u001b[0m \u001b[0;34m=\u001b[0m \u001b[0mget_proba_distrib\u001b[0m\u001b[0;34m(\u001b[0m\u001b[0mmodel\u001b[0m\u001b[0;34m,\u001b[0m \u001b[0msentence\u001b[0m\u001b[0;34m)\u001b[0m\u001b[0;34m\u001b[0m\u001b[0;34m\u001b[0m\u001b[0m\n\u001b[1;32m     24\u001b[0m         \u001b[0mprint\u001b[0m\u001b[0;34m(\u001b[0m\u001b[0;34m'dist'\u001b[0m\u001b[0;34m,\u001b[0m\u001b[0mprob_diztribution\u001b[0m\u001b[0;34m)\u001b[0m\u001b[0;34m\u001b[0m\u001b[0;34m\u001b[0m\u001b[0m\n\u001b[0;32m---> 25\u001b[0;31m         \u001b[0mchoice\u001b[0m \u001b[0;34m=\u001b[0m \u001b[0mnp\u001b[0m\u001b[0;34m.\u001b[0m\u001b[0mrandom\u001b[0m\u001b[0;34m.\u001b[0m\u001b[0mchoice\u001b[0m\u001b[0;34m(\u001b[0m\u001b[0ma\u001b[0m\u001b[0;34m=\u001b[0m\u001b[0mlist\u001b[0m\u001b[0;34m(\u001b[0m\u001b[0mprob_diztribution\u001b[0m\u001b[0;34m.\u001b[0m\u001b[0mkeys\u001b[0m\u001b[0;34m(\u001b[0m\u001b[0;34m)\u001b[0m\u001b[0;34m)\u001b[0m\u001b[0;34m,\u001b[0m \u001b[0mp\u001b[0m\u001b[0;34m=\u001b[0m\u001b[0mlist\u001b[0m\u001b[0;34m(\u001b[0m\u001b[0mprob_diztribution\u001b[0m\u001b[0;34m.\u001b[0m\u001b[0mvalues\u001b[0m\u001b[0;34m(\u001b[0m\u001b[0;34m)\u001b[0m\u001b[0;34m)\u001b[0m\u001b[0;34m)\u001b[0m\u001b[0;34m\u001b[0m\u001b[0;34m\u001b[0m\u001b[0m\n\u001b[0m\u001b[1;32m     26\u001b[0m         \u001b[0mprint\u001b[0m\u001b[0;34m(\u001b[0m\u001b[0;34m'choice'\u001b[0m\u001b[0;34m,\u001b[0m \u001b[0mchoice\u001b[0m\u001b[0;34m)\u001b[0m\u001b[0;34m\u001b[0m\u001b[0;34m\u001b[0m\u001b[0m\n\u001b[1;32m     27\u001b[0m         \u001b[0msentence\u001b[0m\u001b[0;34m.\u001b[0m\u001b[0mappend\u001b[0m\u001b[0;34m(\u001b[0m\u001b[0mchoice\u001b[0m\u001b[0;34m)\u001b[0m\u001b[0;34m\u001b[0m\u001b[0;34m\u001b[0m\u001b[0m\n",
            "\u001b[0;31mAttributeError\u001b[0m: 'NoneType' object has no attribute 'keys'"
          ]
        }
      ],
      "source": [
        "# GENERATE A SENTENCE FROM THE MODEL\n",
        "\n",
        "print(\"Generated sentence: \",generate(model))"
      ]
    },
    {
      "cell_type": "markdown",
      "metadata": {
        "id": "4gxWnNSBBaQt"
      },
      "source": [
        "Once you are done implementing the model, evaluation and generation code, you can try changing the value of `n`, and play with a larger training set (`train2.txt` and `valid2.txt`). You can also try to implement an interpolation model."
      ]
    },
    {
      "cell_type": "code",
      "execution_count": null,
      "metadata": {
        "id": "3lbvh1aNBaQt"
      },
      "outputs": [],
      "source": [
        ""
      ]
    }
  ],
  "metadata": {
    "kernelspec": {
      "display_name": "Python 3",
      "language": "python",
      "name": "python3"
    },
    "language_info": {
      "codemirror_mode": {
        "name": "ipython",
        "version": 3
      },
      "file_extension": ".py",
      "mimetype": "text/x-python",
      "name": "python",
      "nbconvert_exporter": "python",
      "pygments_lexer": "ipython3",
      "version": "3.6.2+"
    },
    "colab": {
      "name": "n_gram_models.ipynb",
      "provenance": [],
      "collapsed_sections": [],
      "include_colab_link": true
    }
  },
  "nbformat": 4,
  "nbformat_minor": 0
}