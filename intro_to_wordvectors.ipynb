{
  "cells": [
    {
      "cell_type": "markdown",
      "metadata": {
        "id": "view-in-github",
        "colab_type": "text"
      },
      "source": [
        "<a href=\"https://colab.research.google.com/github/amaneth/Language-detection/blob/main/intro_to_wordvectors.ipynb\" target=\"_parent\"><img src=\"https://colab.research.google.com/assets/colab-badge.svg\" alt=\"Open In Colab\"/></a>"
      ]
    },
    {
      "cell_type": "markdown",
      "metadata": {
        "id": "OPBlUJJBskCG"
      },
      "source": [
        "\n",
        "<h1 style=\"font-family:verdana;font-size:300%;text-align:center;background-color:#f2f2f2;color:#0d0d0d\">AMMI NLP - Review sessions</h1>\n",
        "\n",
        "<h1 style=\"font-family:verdana;font-size:180%;text-align:Center;color:#993333\"> Lab 2: Introduction to wordvectors </h1>"
      ]
    },
    {
      "cell_type": "markdown",
      "metadata": {
        "id": "ubi7TwSBskCI"
      },
      "source": [
        "**Big thanks to Amr Khalifa who improved this lab and made it to a Jupyter Notebook!**"
      ]
    },
    {
      "cell_type": "code",
      "execution_count": 1,
      "metadata": {
        "id": "KSWVCZ1nskCI"
      },
      "outputs": [],
      "source": [
        "import io, sys\n",
        "import numpy as np"
      ]
    },
    {
      "cell_type": "code",
      "execution_count": 2,
      "metadata": {
        "id": "Km0f217YskCJ"
      },
      "outputs": [],
      "source": [
        "def load_vectors(filename):\n",
        "    fin = io.open(filename, 'r', encoding='utf-8', newline='\\n')\n",
        "    n, d = map(int, fin.readline().split())\n",
        "    data = {}\n",
        "    for line in fin:\n",
        "        tokens = line.rstrip().split(' ')\n",
        "        data[tokens[0]] = np.asarray([float(x) for x in tokens[1:]])\n",
        "    return data"
      ]
    },
    {
      "cell_type": "code",
      "source": [
        "from google.colab import drive\n",
        "drive.mount('/content/drive')"
      ],
      "metadata": {
        "colab": {
          "base_uri": "https://localhost:8080/"
        },
        "id": "xcvIZCrTs87_",
        "outputId": "fe00c84a-9820-4b30-bb33-76e697ae38eb"
      },
      "execution_count": 5,
      "outputs": [
        {
          "output_type": "stream",
          "name": "stdout",
          "text": [
            "Mounted at /content/drive\n"
          ]
        }
      ]
    },
    {
      "cell_type": "code",
      "source": [
        "cd /content/drive/MyDrive/NLP_Week_1_Labs_2022/session2/session2"
      ],
      "metadata": {
        "colab": {
          "base_uri": "https://localhost:8080/"
        },
        "id": "PTo9pNtBuuzc",
        "outputId": "37f627fe-cfcd-45b4-a4ea-9228cbc9fe5f"
      },
      "execution_count": 6,
      "outputs": [
        {
          "output_type": "stream",
          "name": "stdout",
          "text": [
            "/content/drive/.shortcut-targets-by-id/1hemX0olabA89fdb9njWGoX6q2g_RJU4Y/NLP_Week_1_Labs_2022/session2/session2\n"
          ]
        }
      ]
    },
    {
      "cell_type": "code",
      "execution_count": 16,
      "metadata": {
        "id": "InaHiZ6eskCJ",
        "colab": {
          "base_uri": "https://localhost:8080/"
        },
        "outputId": "c013e8e6-22b7-4a7f-fd62-c143cd6e3fc3"
      },
      "outputs": [
        {
          "output_type": "stream",
          "name": "stdout",
          "text": [
            "\n",
            " ** Word vectors ** \n",
            "\n",
            "<class 'numpy.ndarray'> 300\n"
          ]
        }
      ],
      "source": [
        "# Loading word vectors\n",
        "\n",
        "print('')\n",
        "print(' ** Word vectors ** ')\n",
        "print('')\n",
        "\n",
        "'''\n",
        "word_vectors is a dictionary that maps words to their numerical word vector\n",
        "[word (string)] = [np-array] \n",
        "'''\n",
        "word_vectors = load_vectors('wiki.en.vec')\n",
        "\n",
        "tree_vector = word_vectors['is']\n",
        "print(type(tree_vector), len(tree_vector))"
      ]
    },
    {
      "cell_type": "code",
      "source": [
        "tree_vector"
      ],
      "metadata": {
        "colab": {
          "base_uri": "https://localhost:8080/"
        },
        "id": "ETHbJvEzvBGc",
        "outputId": "0d89e3a4-c133-47d5-e409-03f90ce0692d"
      },
      "execution_count": 15,
      "outputs": [
        {
          "output_type": "execute_result",
          "data": {
            "text/plain": [
              "array([ 0.035927  ,  0.14517   ,  0.11926   ,  0.078836  , -0.047748  ,\n",
              "        0.10096   ,  0.090815  , -0.22176   , -0.095085  , -0.02261   ,\n",
              "        0.0076501 ,  0.04377   ,  0.051051  , -0.097378  , -0.037446  ,\n",
              "        0.045309  ,  0.00087634, -0.12497   ,  0.029659  ,  0.069825  ,\n",
              "       -0.16091   ,  0.1742    , -0.32899   , -0.1829    , -0.0065372 ,\n",
              "        0.058934  ,  0.019552  ,  0.19681   , -0.14456   ,  0.085745  ,\n",
              "       -0.071958  ,  0.37732   , -0.34039   ,  0.027648  ,  0.012375  ,\n",
              "       -0.15959   , -0.14646   ,  0.16194   ,  0.092523  , -0.087637  ,\n",
              "       -0.059375  , -0.010355  , -0.074173  ,  0.056924  , -0.10949   ,\n",
              "        0.28542   ,  0.19264   ,  0.010483  , -0.05483   , -0.030501  ,\n",
              "        0.068125  , -0.049188  ,  0.11643   , -0.1018    ,  0.10541   ,\n",
              "        0.096377  ,  0.30352   ,  0.098904  ,  0.16109   ,  0.15746   ,\n",
              "        0.085867  , -0.1266    ,  0.086606  , -0.012517  , -0.060086  ,\n",
              "        0.058047  , -0.19545   ,  0.029768  ,  0.1353    , -0.054936  ,\n",
              "       -0.09761   ,  0.041602  ,  0.19329   , -0.071273  , -0.4064    ,\n",
              "       -0.075163  ,  0.037473  ,  0.24462   ,  0.068334  , -0.082493  ,\n",
              "       -0.046809  ,  0.12907   ,  0.085082  , -0.26625   , -0.089977  ,\n",
              "       -0.18727   , -0.19797   ,  0.12161   , -0.12957   , -0.074638  ,\n",
              "        0.26606   ,  0.21286   ,  0.13707   , -0.22089   ,  0.061054  ,\n",
              "       -0.25247   ,  0.12172   ,  0.17021   ,  0.14249   , -0.059753  ,\n",
              "       -0.22905   ,  0.069484  ,  0.075391  ,  0.054459  ,  0.025777  ,\n",
              "       -0.079382  , -0.23297   , -0.056315  ,  0.085659  , -0.13863   ,\n",
              "        0.010848  ,  0.11964   , -0.29033   ,  0.056997  ,  0.10546   ,\n",
              "       -0.09129   ,  0.15602   ,  0.16682   ,  0.19723   ,  0.068381  ,\n",
              "        0.25218   ,  0.12906   , -0.11976   ,  0.36511   ,  0.04613   ,\n",
              "        0.14922   ,  0.11582   ,  0.15174   ,  0.066293  ,  0.041363  ,\n",
              "       -0.11032   ,  0.034476  ,  0.087089  ,  0.067598  ,  0.020334  ,\n",
              "       -0.0807    ,  0.11125   ,  0.079644  ,  0.1182    ,  0.14276   ,\n",
              "       -0.16239   ,  0.048049  ,  0.20329   , -0.1865    ,  0.068342  ,\n",
              "        0.11872   , -0.21844   ,  0.080969  ,  0.11576   , -0.086196  ,\n",
              "        0.016645  , -0.07335   , -0.017962  , -0.036097  , -0.013199  ,\n",
              "       -0.079475  ,  0.11069   , -0.045565  ,  0.53583   , -0.011069  ,\n",
              "        0.081706  ,  0.17232   , -0.2441    , -0.040374  ,  0.32503   ,\n",
              "       -0.0045183 , -0.023625  , -0.13361   ,  0.11442   ,  0.13294   ,\n",
              "       -0.13098   , -0.2013    , -0.084633  ,  0.055785  ,  0.024583  ,\n",
              "       -0.031059  ,  0.17107   ,  0.016382  , -0.007079  , -0.038921  ,\n",
              "       -0.041218  ,  0.13561   ,  0.045142  ,  0.39547   ,  0.084596  ,\n",
              "        0.1296    ,  0.074092  ,  0.050129  ,  0.13505   , -0.069099  ,\n",
              "        0.0042038 , -0.19653   ,  0.052232  ,  0.21959   ,  0.076529  ,\n",
              "       -0.13691   , -0.090079  ,  0.039593  , -0.19713   ,  0.088612  ,\n",
              "        0.052963  , -0.15249   , -0.34548   ,  0.074472  , -0.27969   ,\n",
              "       -0.074521  , -0.21438   ,  0.14577   ,  0.18846   , -0.12055   ,\n",
              "        0.19297   ,  0.089923  ,  0.11085   ,  0.23914   , -0.058177  ,\n",
              "       -0.15256   , -0.049997  , -0.29806   , -0.16428   , -0.053028  ,\n",
              "        0.057367  , -0.12154   , -0.2741    , -0.12438   ,  0.30366   ,\n",
              "        0.0038798 , -0.11727   ,  0.30079   , -0.014037  ,  0.0051858 ,\n",
              "        0.014408  ,  0.056017  , -0.24088   ,  0.03485   , -0.1719    ,\n",
              "       -0.042362  , -0.17468   , -0.23828   , -0.018515  , -0.015014  ,\n",
              "       -0.21179   ,  0.16822   ,  0.12561   , -0.11843   ,  0.29393   ,\n",
              "        0.30496   ,  0.36829   , -0.0016441 ,  0.13448   , -0.17843   ,\n",
              "       -0.041137  ,  0.29053   , -0.033821  , -0.049843  , -0.10897   ,\n",
              "        0.057659  , -0.0051955 , -0.12193   ,  0.18452   , -0.043497  ,\n",
              "        0.1309    ,  0.32408   ,  0.049279  , -0.12412   , -0.23473   ,\n",
              "       -0.065103  , -0.1325    ,  0.36398   ,  0.022735  , -0.15708   ,\n",
              "       -0.058168  ,  0.11844   , -0.011848  ,  0.043694  ,  0.039633  ,\n",
              "       -0.26053   ,  0.32672   ,  0.17928   ,  0.1103    , -0.045212  ,\n",
              "        0.22146   ,  0.15149   ,  0.061161  , -0.055577  , -0.075315  ,\n",
              "       -0.10055   ,  0.11615   ,  0.19411   , -0.10141   ,  0.21326   ,\n",
              "        0.040324  , -0.2741    , -0.11633   , -0.089418  , -0.072754  ,\n",
              "       -0.26043   ,  0.084246  , -0.0016082 ,  0.1708    , -0.035512  ])"
            ]
          },
          "metadata": {},
          "execution_count": 15
        }
      ]
    },
    {
      "cell_type": "code",
      "execution_count": 21,
      "metadata": {
        "id": "LNIDcmHeskCJ"
      },
      "outputs": [],
      "source": [
        "## This function computes the cosine similarity between vectors u and v\n",
        "\n",
        "def cosine(u, v):\n",
        "    '''\n",
        "    Parameters:\n",
        "    u : 1-D numpy array\n",
        "    v : 1-D numpy array \n",
        "    \n",
        "    Returns:\n",
        "    cos (float) : value of the cosine similairy between vectors u, v \n",
        "    '''\n",
        "\n",
        "    ## FILL CODE\n",
        "    cos= (np.dot(u,v))/(np.linalg.norm(u)*np.linalg.norm(v))\n",
        "    \n",
        "    return cos \n"
      ]
    },
    {
      "cell_type": "code",
      "execution_count": 22,
      "metadata": {
        "id": "_X13zPdmskCK",
        "colab": {
          "base_uri": "https://localhost:8080/"
        },
        "outputId": "5226f661-15f6-424d-b8b3-f46a9f558d87"
      },
      "outputs": [
        {
          "output_type": "stream",
          "name": "stdout",
          "text": [
            "similarity(apple, apples) = 0.637\n",
            "similarity(apple, banana) = 0.431\n",
            "similarity(apple, tiger) = 0.212\n"
          ]
        }
      ],
      "source": [
        "# compute similarity between words\n",
        "\n",
        "print('similarity(apple, apples) = %.3f' %\n",
        "      cosine(word_vectors['apple'], word_vectors['apples']))\n",
        "print('similarity(apple, banana) = %.3f' %\n",
        "      cosine(word_vectors['apple'], word_vectors['banana']))\n",
        "print('similarity(apple, tiger) = %.3f' %\n",
        "      cosine(word_vectors['apple'], word_vectors['tiger']))"
      ]
    },
    {
      "cell_type": "code",
      "execution_count": 31,
      "metadata": {
        "id": "vU02tgkmskCK"
      },
      "outputs": [],
      "source": [
        "## Functions for nearest neighbor\n",
        "## This function returns the word corresponding to \n",
        "## nearest neighbor vector of x\n",
        "## The list exclude_words can be used to exclude some\n",
        "## words from the nearest neighbors search\n",
        "\n",
        "def nearest_neighbor(x, word_vectors, exclude_words=[]):\n",
        "    '''\n",
        "    Parameters:\n",
        "    x (string): word to find its nearest neighbour \n",
        "    word_vectors (Python dict): {word (string): np-array of word vector}\n",
        "    exclude_words (list of strings): words to be excluded from the search\n",
        "    \n",
        "    Returns:\n",
        "    best_word (string) : the word whose word vector is the nearest neighbour \n",
        "    to the word vector of x\n",
        "    '''\n",
        "    best_score = -1.0\n",
        "    best_word = None\n",
        "    for word, vector in word_vectors.items():\n",
        "      similarity= cosine(vector, x)\n",
        "      if word in exclude_words:\n",
        "        continue\n",
        "      if similarity > best_score:\n",
        "        best_score=similarity\n",
        "        best_word=word\n",
        "\n",
        "    ## FILL CODE\n",
        "            \n",
        "    return best_word"
      ]
    },
    {
      "cell_type": "code",
      "execution_count": 32,
      "metadata": {
        "id": "LKNqrHz4skCL",
        "colab": {
          "base_uri": "https://localhost:8080/"
        },
        "outputId": "6b9fe5d8-7a57-4f23-c60f-8991c98457f6"
      },
      "outputs": [
        {
          "output_type": "stream",
          "name": "stdout",
          "text": [
            "\n",
            "The nearest neighbor of cat is: dog\n"
          ]
        }
      ],
      "source": [
        "print('')\n",
        "print('The nearest neighbor of cat is: ' +\n",
        "      nearest_neighbor(word_vectors['cat'], word_vectors, exclude_words = ['cat', 'cats']))"
      ]
    },
    {
      "cell_type": "markdown",
      "metadata": {
        "id": "pLEG6KgDskCL"
      },
      "source": [
        "#### Hint (using python priorty queues with the heapq datastructure): \n",
        "if you don't want to store all the words and scores you can use the priortiy queue and only store the best K element so far. "
      ]
    },
    {
      "cell_type": "code",
      "execution_count": 132,
      "metadata": {
        "id": "h8Ja7MM8skCL"
      },
      "outputs": [],
      "source": [
        "\n",
        "## This function return the words corresponding to the\n",
        "## K nearest neighbors of vector x.\n",
        "## You can use the functions heappush and heappop.\n",
        "from heapq import heappush, heappop\n",
        "def knn(x, vectors, k):\n",
        "    '''\n",
        "    Parameters:\n",
        "    x (string): word to find its nearest neighbour \n",
        "    word_vectors (Python dict): {word (string): np-array of word vector}\n",
        "    k (int): number of nearest neighbours to be found\n",
        "    \n",
        "    Returns: \n",
        "    k_nearest_neighbors (list of tuples): [(score, word), (score, word), ....]\n",
        "    '''\n",
        "\n",
        "    k_nearest_neighbors = [(-1.0, None) for _ in range(k)]\n",
        "    ## FILL CODE\n",
        "    for word, vector in vectors.items():\n",
        "        similarity= cosine(vector, x)\n",
        "        \n",
        "        exist=[ similarity>score for score,_ in k_nearest_neighbors]\n",
        "        if any(exist):\n",
        "          heappop(k_nearest_neighbors)\n",
        "          heappush(k_nearest_neighbors, (similarity, word))\n",
        "\n",
        "       \n",
        "\n",
        "\n",
        "\n",
        "        \n",
        "    return k_nearest_neighbors"
      ]
    },
    {
      "cell_type": "code",
      "execution_count": 133,
      "metadata": {
        "id": "yMU08njKskCL",
        "colab": {
          "base_uri": "https://localhost:8080/"
        },
        "outputId": "9ee4fcd5-9c35-42f1-9a56-1db687fbdf29"
      },
      "outputs": [
        {
          "output_type": "stream",
          "name": "stdout",
          "text": [
            "\n",
            "cat\n",
            "--------------\n",
            "rabbit\t0.549\n",
            "pet\t0.573\n",
            "cat\t1.000\n",
            "cats\t0.732\n",
            "dog\t0.638\n"
          ]
        }
      ],
      "source": [
        "knn_cat = knn(word_vectors['cat'], word_vectors, 5)\n",
        "print('')\n",
        "print('cat')\n",
        "print('--------------')\n",
        "for score, word in knn_cat:\n",
        "    print (word + '\\t%.3f' % score)\n"
      ]
    },
    {
      "cell_type": "markdown",
      "metadata": {
        "id": "UDVGI2pQskCM"
      },
      "source": [
        "#### Hint: \n",
        "To find the analogies, we find the nearest neighbour associated with the wordvector d\n",
        "$$ d = \\frac{c}{\\Vert {c} \\Vert} + \\frac{b}{\\Vert {b} \\Vert} - \\frac{a}{\\Vert {a} \\Vert}$$\n"
      ]
    },
    {
      "cell_type": "code",
      "execution_count": 115,
      "metadata": {
        "id": "SOcTTgmHskCM"
      },
      "outputs": [],
      "source": [
        "## This function return the words d, such that a:b and c:d\n",
        "## verifies the same relation\n",
        "\n",
        "def analogy(a, b, c, word_vectors):\n",
        "    '''\n",
        "    Parameters:\n",
        "    a (string): word a\n",
        "    b (string): word b\n",
        "    c (string): word c\n",
        "    word_vectors (Python dict): {word (string): np-array of word vector}\n",
        "    \n",
        "    Returnrs: \n",
        "    the word d (string) associated with c such that c:d is similar to a:b \n",
        "    \n",
        "    '''\n",
        "    \n",
        "    ## FILL CODE\n",
        "    c_vector= word_vectors[c]\n",
        "    b_vector= word_vectors[b]\n",
        "    a_vector= word_vectors[a]\n",
        "\n",
        "    d= (c_vector/np.linalg.norm(c_vector)) + (b_vector/np.linalg.norm(b_vector)) - (a_vector/np.linalg.norm(a_vector))\n",
        "    analogy_word= nearest_neighbor(d, word_vectors)\n",
        "\n",
        "    return analogy_word"
      ]
    },
    {
      "cell_type": "code",
      "execution_count": 126,
      "metadata": {
        "id": "ijlr1poDskCM",
        "colab": {
          "base_uri": "https://localhost:8080/"
        },
        "outputId": "2356d2c2-288b-437d-eb36-f4ece2ab81a1"
      },
      "outputs": [
        {
          "output_type": "stream",
          "name": "stdout",
          "text": [
            "\n",
            "france - paris + amsterdam = netherlands\n"
          ]
        }
      ],
      "source": [
        "# Word analogies\n",
        "\n",
        "print('')\n",
        "print('france - paris + amsterdam = ' + analogy('paris', 'france', 'amsterdam', word_vectors))"
      ]
    },
    {
      "cell_type": "markdown",
      "metadata": {
        "id": "1CEXJgPYskCM"
      },
      "source": [
        "## A word about biases in word vectors"
      ]
    },
    {
      "cell_type": "code",
      "execution_count": 125,
      "metadata": {
        "id": "WuH818fLskCM",
        "colab": {
          "base_uri": "https://localhost:8080/"
        },
        "outputId": "34a37383-6acd-4466-be5f-463472b1c4a8"
      },
      "outputs": [
        {
          "output_type": "stream",
          "name": "stdout",
          "text": [
            "\n",
            "similarity(genius, man) = 0.445\n",
            "similarity(genius, woman) = 0.325\n"
          ]
        }
      ],
      "source": [
        "## A word about biases in word vectors:\n",
        "\n",
        "print('')\n",
        "print('similarity(genius, man) = %.3f' %\n",
        "      cosine(word_vectors['man'], word_vectors['genius']))\n",
        "print('similarity(genius, woman) = %.3f' %\n",
        "      cosine(word_vectors['woman'], word_vectors['genius']))"
      ]
    },
    {
      "cell_type": "code",
      "execution_count": 146,
      "metadata": {
        "id": "WlAcpLDxskCM"
      },
      "outputs": [],
      "source": [
        "## Compute the association strength between:\n",
        "##   - a word w\n",
        "##   - two sets of attributes A and B\n",
        "\n",
        "def association_strength(w, A, B, vectors):\n",
        "    '''\n",
        "    Parameters:\n",
        "    w (string): word w\n",
        "    A (list of strings): The words belonging to set A\n",
        "    B (list of strings): The words belonging to set B\n",
        "    vectors (Python dict): {word (string): np-array of word vector}\n",
        "    \n",
        "    Returnrs: \n",
        "    strength (float): the value of the association strength \n",
        "    '''\n",
        "    \n",
        "    strength = 0.0\n",
        "    part_a = 0.0\n",
        "    part_b = 0.0 \n",
        "    for word in A:\n",
        "      part_a+=cosine(vectors[w], vectors[word] )\n",
        "    for word in B:\n",
        "      part_b+=cosine(vectors[w], vectors[word] )\n",
        "    part_a/=len(A)\n",
        "    part_b/=len(B) \n",
        "    strength = part_a-part_b\n",
        "    ## FILL CODE\n",
        "\n",
        "    return strength"
      ]
    },
    {
      "cell_type": "code",
      "execution_count": 147,
      "metadata": {
        "id": "tvMm2oOxskCM"
      },
      "outputs": [],
      "source": [
        "## Perform the word embedding association test between:\n",
        "##   - two sets of words X and Y\n",
        "##   - two sets of attributes A and B\n",
        "\n",
        "def weat(X, Y, A, B, vectors):\n",
        "    '''\n",
        "    Parameters:\n",
        "    X (list of strings): The words belonging to set X\n",
        "    Y (list of strings): The words belonging to set Y\n",
        "    A (list of strings): The words belonging to set A\n",
        "    B (list of strings): The words belonging to set B\n",
        "    vectors (Python dict): {word (string): np-array of word vector}\n",
        "    \n",
        "    Returns: \n",
        "    score (float): the value of the group association strength  \n",
        "    '''\n",
        "    \n",
        "    score = 0.0\n",
        "    a_strength=0.0\n",
        "    b_strength=0.0\n",
        "    for x in X:\n",
        "      a_strength+=association_strength(x,A,B, vectors)\n",
        "    for y in Y:\n",
        "      b_strength+=association_strength(y,A,B, vectors)\n",
        "\n",
        "    score = a_strength-b_strength\n",
        "    \n",
        "    ## FILL CODE\n",
        "\n",
        "    return score"
      ]
    },
    {
      "cell_type": "code",
      "execution_count": 148,
      "metadata": {
        "id": "T6dhi3fPskCM",
        "colab": {
          "base_uri": "https://localhost:8080/"
        },
        "outputId": "44980760-91a1-4bff-fc05-6668076ef644"
      },
      "outputs": [
        {
          "output_type": "stream",
          "name": "stdout",
          "text": [
            "\n",
            "Word embedding association test: 0.847\n"
          ]
        }
      ],
      "source": [
        "## Replicate one of the experiments from:\n",
        "##\n",
        "## Semantics derived automatically from language corpora contain human-like biases\n",
        "## Caliskan, Bryson, Narayanan (2017)\n",
        "\n",
        "career = ['executive', 'management', 'professional', 'corporation', \n",
        "          'salary', 'office', 'business', 'career']\n",
        "family = ['home', 'parents', 'children', 'family',\n",
        "          'cousins', 'marriage', 'wedding', 'relatives']\n",
        "male = ['john', 'paul', 'mike', 'kevin', 'steve', 'greg', 'jeff', 'bill']\n",
        "female = ['amy', 'joan', 'lisa', 'sarah', 'diana', 'kate', 'ann', 'donna']\n",
        "\n",
        "print('')\n",
        "print('Word embedding association test: %.3f' %\n",
        "      weat(career, family, male, female, word_vectors))"
      ]
    },
    {
      "cell_type": "markdown",
      "metadata": {
        "id": "LgaobVYhskCN"
      },
      "source": [
        "## Word translation using word vectors\n",
        "\n",
        "In the following, we will use word vectors in English and French to translate words from English to French. The idea is to learn a linear function that maps English word vectors to their correponding French word vectors. To learn this linear mapping, we will use a small bilingual lexicon, that contains pairs of words in English and French that are translations of each other.\n",
        "\n",
        "The following function will load the small English-French bilingual lexicon:"
      ]
    },
    {
      "cell_type": "code",
      "execution_count": 149,
      "metadata": {
        "id": "2uyxlSSsskCN"
      },
      "outputs": [],
      "source": [
        "def load_lexicon(filename):\n",
        "    '''\n",
        "    Parameters:\n",
        "    filename(string): the path of the lexicon\n",
        "    \n",
        "    Returns:\n",
        "    data(list of pairs of string): the bilingual lexicon\n",
        "    '''\n",
        "    fin = io.open(filename, 'r', encoding='utf-8', newline='\\n')\n",
        "    data = []\n",
        "    for line in fin:\n",
        "        a, b = line.rstrip().split(' ')\n",
        "        data.append((a, b))\n",
        "    return data"
      ]
    },
    {
      "cell_type": "code",
      "execution_count": 198,
      "metadata": {
        "id": "6XyxveY-skCN"
      },
      "outputs": [],
      "source": [
        "word_vectors_en = load_vectors('wiki.en.vec')\n",
        "word_vectors_fr = load_vectors('wiki.fr.vec')\n",
        "lexicon = load_lexicon(\"lexicon-en-fr.txt\")\n",
        "lexicon=dict(lexicon)"
      ]
    },
    {
      "cell_type": "code",
      "source": [
        "len(lexicon)"
      ],
      "metadata": {
        "colab": {
          "base_uri": "https://localhost:8080/"
        },
        "id": "YRcHpbe-hsZt",
        "outputId": "22d7014d-506d-4c03-f0bf-1a2dc6b0429e"
      },
      "execution_count": 202,
      "outputs": [
        {
          "output_type": "execute_result",
          "data": {
            "text/plain": [
              "4584"
            ]
          },
          "metadata": {},
          "execution_count": 202
        }
      ]
    },
    {
      "cell_type": "code",
      "execution_count": 151,
      "metadata": {
        "id": "-ZYExIW7skCN"
      },
      "outputs": [],
      "source": [
        "# We split the lexicon into a train and validation set\n",
        "train = lexicon[:5000]\n",
        "valid = lexicon[5000:5100]"
      ]
    },
    {
      "cell_type": "markdown",
      "metadata": {
        "id": "sNnfZsqbskCN"
      },
      "source": [
        "The following function will learn the mapping from English to French. The idea is to build two matrices $X_{\\text{en}}$ and $X_{\\text{fr}}$, and to find a mapping $M$ that minimizes $||X_{\\text{en}} W - X_{\\text{fr}} ||_2$. In numpy, this mapping can be obtained by using the `numpy.linalg.lstsq` function."
      ]
    },
    {
      "cell_type": "code",
      "execution_count": 233,
      "metadata": {
        "id": "e_rnor1bskCN"
      },
      "outputs": [],
      "source": [
        "def align(word_vectors_en, word_vectors_fr, lexicon):\n",
        "    '''\n",
        "    Parameters:\n",
        "    word_vectors_en(dict: string -> np.array): English word vectors\n",
        "    word_vectors_en(dict: string -> np.array): French word vectors\n",
        "    lexicon(list of pairs of string): bilingual training lexicon\n",
        "    \n",
        "    Returns\n",
        "    mapping(np.array): the mapping from English to French vectors\n",
        "    '''\n",
        "    x_en, x_fr = [], []\n",
        "    \n",
        "    # lexicon = dict(lexicon)\n",
        "    for en_word, en_vec in word_vectors_en.items():\n",
        "      if en_word in lexicon:\n",
        "        x_en.append(en_vec)\n",
        "        x_fr.append(word_vectors_fr[lexicon[en_word]])\n",
        "    x_en= np.array(x_en)\n",
        "    x_fr= np.array(x_fr)\n",
        "    # print(x_en.shape)\n",
        "    # print(x_fr.shape)\n",
        "    m=np.linalg.lstsq(x_en, x_fr)\n",
        "    \n",
        "    ## FILL CODE\n",
        "    # la_vector = the_vector@ mapping\n",
        "    return m[0]"
      ]
    },
    {
      "cell_type": "code",
      "execution_count": 234,
      "metadata": {
        "id": "UEFDsQyKskCN",
        "colab": {
          "base_uri": "https://localhost:8080/"
        },
        "outputId": "13ecb438-880e-4dfc-9c24-3d03cda5f7e1"
      },
      "outputs": [
        {
          "output_type": "stream",
          "name": "stderr",
          "text": [
            "/usr/local/lib/python3.7/dist-packages/ipykernel_launcher.py:22: FutureWarning: `rcond` parameter will change to the default of machine precision times ``max(M, N)`` where M and N are the input matrix dimensions.\n",
            "To use the future default and silence this warning we advise to pass `rcond=None`, to keep using the old, explicitly pass `rcond=-1`.\n"
          ]
        }
      ],
      "source": [
        "mapping = align(word_vectors_en, word_vectors_fr, lexicon)"
      ]
    },
    {
      "cell_type": "markdown",
      "metadata": {
        "id": "TAd3guwrskCN"
      },
      "source": [
        "Given a mapping, a set of word English word vector and French word vectors, the next function will translate the English word to French. To do so, we apply the mapping on the English word, and retrieve the nearest neighbor of the obtained vector in the set of French word vectors. The translation is then the corresponding French word."
      ]
    },
    {
      "cell_type": "code",
      "source": [
        "mapping.shape"
      ],
      "metadata": {
        "colab": {
          "base_uri": "https://localhost:8080/"
        },
        "id": "ssOR2vmUX6l2",
        "outputId": "7ba649e8-139a-4b1e-9077-dbf334983060"
      },
      "execution_count": 223,
      "outputs": [
        {
          "output_type": "execute_result",
          "data": {
            "text/plain": [
              "(300, 300)"
            ]
          },
          "metadata": {},
          "execution_count": 223
        }
      ]
    },
    {
      "cell_type": "code",
      "execution_count": 239,
      "metadata": {
        "id": "f3HNuMo2skCN"
      },
      "outputs": [],
      "source": [
        "def translate(word, word_vectors_en, word_vectors_fr, mapping):\n",
        "    '''\n",
        "    Parameters:\n",
        "    word(string): an English word\n",
        "    word_vectors_en(dict: string -> np.array): English word vectors\n",
        "    word_vectors_en(dict: string -> np.array): French word vectors\n",
        "    mapping(np.array): the mapping from English to French vectors\n",
        "    \n",
        "    Returns\n",
        "    A string containing the translation of the English word\n",
        "    '''\n",
        "    mapping = align(word_vectors_en, word_vectors_fr,lexicon)\n",
        "    vector = word_vectors_en[word]@mapping\n",
        "    # print(vector.shape)\n",
        "    trans= nearest_neighbor(vector,word_vectors_fr)\n",
        "\n",
        "    \n",
        "    ## FILL CODE\n",
        "\n",
        "    return trans"
      ]
    },
    {
      "cell_type": "code",
      "execution_count": 240,
      "metadata": {
        "id": "XCESUasLskCN",
        "colab": {
          "base_uri": "https://localhost:8080/"
        },
        "outputId": "58e9b12e-a1b7-4a45-de29-4ccfd1e0faac"
      },
      "outputs": [
        {
          "output_type": "stream",
          "name": "stderr",
          "text": [
            "/usr/local/lib/python3.7/dist-packages/ipykernel_launcher.py:22: FutureWarning: `rcond` parameter will change to the default of machine precision times ``max(M, N)`` where M and N are the input matrix dimensions.\n",
            "To use the future default and silence this warning we advise to pass `rcond=None`, to keep using the old, explicitly pass `rcond=-1`.\n"
          ]
        },
        {
          "output_type": "stream",
          "name": "stdout",
          "text": [
            "monde\n",
            "machine\n",
            "apprentissage\n"
          ]
        }
      ],
      "source": [
        "print(translate(\"world\", word_vectors_en, word_vectors_fr, mapping))\n",
        "print(translate(\"machine\", word_vectors_en, word_vectors_fr, mapping))\n",
        "print(translate(\"learning\", word_vectors_en, word_vectors_fr, mapping))"
      ]
    },
    {
      "cell_type": "markdown",
      "metadata": {
        "id": "PKltzyjmskCN"
      },
      "source": [
        "Finally, let's implement a function to evaluate this method on the validation lexicon:"
      ]
    },
    {
      "cell_type": "code",
      "execution_count": 241,
      "metadata": {
        "id": "FrjkczvhskCN"
      },
      "outputs": [],
      "source": [
        "def evaluate(valid, word_vectors_en, word_vectors_fr, mapping):\n",
        "    '''\n",
        "    Parameters:\n",
        "    valid(a list of pairs of string): the validation lexicon\n",
        "    word_vectors_en(dict: string -> np.array): English word vectors\n",
        "    word_vectors_en(dict: string -> np.array): French word vectors\n",
        "    mapping(np.array): the mapping from English to French vectors\n",
        "    \n",
        "    Returns\n",
        "    Accuracy(float): the accuracy on the validation lexicon\n",
        "    '''\n",
        "    acc, n = 0.0, 0\n",
        "    for en_word, fr_word in valid:\n",
        "      translated=  translate(en_word, word_vectors_en, word_vectors_fr, mapping)\n",
        "      if translated==fr_word:\n",
        "        n+=1\n",
        "    acc= (n/len(valid))*100\n",
        "    ## FILL CODE\n",
        "\n",
        "    return acc"
      ]
    },
    {
      "cell_type": "code",
      "execution_count": 242,
      "metadata": {
        "id": "9KQIekgrskCN",
        "colab": {
          "base_uri": "https://localhost:8080/"
        },
        "outputId": "5c9e9e7c-4603-4fe0-e4ea-b0e593c62c05"
      },
      "outputs": [
        {
          "output_type": "stream",
          "name": "stderr",
          "text": [
            "/usr/local/lib/python3.7/dist-packages/ipykernel_launcher.py:22: FutureWarning: `rcond` parameter will change to the default of machine precision times ``max(M, N)`` where M and N are the input matrix dimensions.\n",
            "To use the future default and silence this warning we advise to pass `rcond=None`, to keep using the old, explicitly pass `rcond=-1`.\n"
          ]
        },
        {
          "output_type": "execute_result",
          "data": {
            "text/plain": [
              "64.0"
            ]
          },
          "metadata": {},
          "execution_count": 242
        }
      ],
      "source": [
        "evaluate(valid, word_vectors_en, word_vectors_fr, mapping)"
      ]
    }
  ],
  "metadata": {
    "kernelspec": {
      "display_name": "Python 3",
      "language": "python",
      "name": "python3"
    },
    "language_info": {
      "codemirror_mode": {
        "name": "ipython",
        "version": 3
      },
      "file_extension": ".py",
      "mimetype": "text/x-python",
      "name": "python",
      "nbconvert_exporter": "python",
      "pygments_lexer": "ipython3",
      "version": "3.6.2+"
    },
    "colab": {
      "name": "intro_to_wordvectors.ipynb",
      "provenance": [],
      "collapsed_sections": [],
      "include_colab_link": true
    }
  },
  "nbformat": 4,
  "nbformat_minor": 0
}